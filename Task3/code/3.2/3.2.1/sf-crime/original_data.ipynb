{
 "cells": [
  {
   "source": [
    "# 3.2.1 Feature Engineering"
   ],
   "cell_type": "markdown",
   "metadata": {}
  },
  {
   "cell_type": "code",
   "execution_count": 1,
   "metadata": {
    "_cell_guid": "b1076dfc-b9ad-4769-8c92-a6c4dae69d19",
    "_uuid": "8f2839f25d086af736a60e9eeb907d3b93b6e0e5",
    "execution": {
     "iopub.execute_input": "2021-02-26T06:42:01.740147Z",
     "iopub.status.busy": "2021-02-26T06:42:01.739245Z",
     "iopub.status.idle": "2021-02-26T06:42:09.747716Z",
     "shell.execute_reply": "2021-02-26T06:42:09.746995Z"
    },
    "papermill": {
     "duration": 8.033804,
     "end_time": "2021-02-26T06:42:09.747954",
     "exception": false,
     "start_time": "2021-02-26T06:42:01.714150",
     "status": "completed"
    },
    "tags": []
   },
   "outputs": [],
   "source": [
    "import numpy as np\n",
    "import pandas as pd\n",
    "import matplotlib.pyplot as plt\n",
    "from tensorflow import keras\n",
    "from keras.layers import Dense,Dropout\n",
    "from keras.models import Sequential\n",
    "from sklearn.impute import SimpleImputer\n",
    "from sklearn.model_selection import train_test_split"
   ]
  },
  {
   "source": [
    "## 加载数据"
   ],
   "cell_type": "markdown",
   "metadata": {
    "papermill": {
     "duration": 0.015511,
     "end_time": "2021-02-26T06:42:09.780288",
     "exception": false,
     "start_time": "2021-02-26T06:42:09.764777",
     "status": "completed"
    },
    "tags": []
   }
  },
  {
   "cell_type": "code",
   "execution_count": 2,
   "metadata": {
    "execution": {
     "iopub.execute_input": "2021-02-26T06:42:09.818378Z",
     "iopub.status.busy": "2021-02-26T06:42:09.817547Z",
     "iopub.status.idle": "2021-02-26T06:42:13.104858Z",
     "shell.execute_reply": "2021-02-26T06:42:13.104256Z"
    },
    "papermill": {
     "duration": 3.30831,
     "end_time": "2021-02-26T06:42:13.105030",
     "exception": false,
     "start_time": "2021-02-26T06:42:09.796720",
     "status": "completed"
    },
    "tags": []
   },
   "outputs": [
    {
     "output_type": "execute_result",
     "data": {
      "text/plain": [
       "                 Dates        Category                      Descript  \\\n",
       "0  2015-05-13 23:53:00        WARRANTS                WARRANT ARREST   \n",
       "1  2015-05-13 23:53:00  OTHER OFFENSES      TRAFFIC VIOLATION ARREST   \n",
       "2  2015-05-13 23:33:00  OTHER OFFENSES      TRAFFIC VIOLATION ARREST   \n",
       "3  2015-05-13 23:30:00   LARCENY/THEFT  GRAND THEFT FROM LOCKED AUTO   \n",
       "4  2015-05-13 23:30:00   LARCENY/THEFT  GRAND THEFT FROM LOCKED AUTO   \n",
       "\n",
       "   DayOfWeek PdDistrict      Resolution                    Address  \\\n",
       "0  Wednesday   NORTHERN  ARREST, BOOKED         OAK ST / LAGUNA ST   \n",
       "1  Wednesday   NORTHERN  ARREST, BOOKED         OAK ST / LAGUNA ST   \n",
       "2  Wednesday   NORTHERN  ARREST, BOOKED  VANNESS AV / GREENWICH ST   \n",
       "3  Wednesday   NORTHERN            NONE   1500 Block of LOMBARD ST   \n",
       "4  Wednesday       PARK            NONE  100 Block of BRODERICK ST   \n",
       "\n",
       "            X          Y  \n",
       "0 -122.425892  37.774599  \n",
       "1 -122.425892  37.774599  \n",
       "2 -122.424363  37.800414  \n",
       "3 -122.426995  37.800873  \n",
       "4 -122.438738  37.771541  "
      ],
      "text/html": "<div>\n<style scoped>\n    .dataframe tbody tr th:only-of-type {\n        vertical-align: middle;\n    }\n\n    .dataframe tbody tr th {\n        vertical-align: top;\n    }\n\n    .dataframe thead th {\n        text-align: right;\n    }\n</style>\n<table border=\"1\" class=\"dataframe\">\n  <thead>\n    <tr style=\"text-align: right;\">\n      <th></th>\n      <th>Dates</th>\n      <th>Category</th>\n      <th>Descript</th>\n      <th>DayOfWeek</th>\n      <th>PdDistrict</th>\n      <th>Resolution</th>\n      <th>Address</th>\n      <th>X</th>\n      <th>Y</th>\n    </tr>\n  </thead>\n  <tbody>\n    <tr>\n      <th>0</th>\n      <td>2015-05-13 23:53:00</td>\n      <td>WARRANTS</td>\n      <td>WARRANT ARREST</td>\n      <td>Wednesday</td>\n      <td>NORTHERN</td>\n      <td>ARREST, BOOKED</td>\n      <td>OAK ST / LAGUNA ST</td>\n      <td>-122.425892</td>\n      <td>37.774599</td>\n    </tr>\n    <tr>\n      <th>1</th>\n      <td>2015-05-13 23:53:00</td>\n      <td>OTHER OFFENSES</td>\n      <td>TRAFFIC VIOLATION ARREST</td>\n      <td>Wednesday</td>\n      <td>NORTHERN</td>\n      <td>ARREST, BOOKED</td>\n      <td>OAK ST / LAGUNA ST</td>\n      <td>-122.425892</td>\n      <td>37.774599</td>\n    </tr>\n    <tr>\n      <th>2</th>\n      <td>2015-05-13 23:33:00</td>\n      <td>OTHER OFFENSES</td>\n      <td>TRAFFIC VIOLATION ARREST</td>\n      <td>Wednesday</td>\n      <td>NORTHERN</td>\n      <td>ARREST, BOOKED</td>\n      <td>VANNESS AV / GREENWICH ST</td>\n      <td>-122.424363</td>\n      <td>37.800414</td>\n    </tr>\n    <tr>\n      <th>3</th>\n      <td>2015-05-13 23:30:00</td>\n      <td>LARCENY/THEFT</td>\n      <td>GRAND THEFT FROM LOCKED AUTO</td>\n      <td>Wednesday</td>\n      <td>NORTHERN</td>\n      <td>NONE</td>\n      <td>1500 Block of LOMBARD ST</td>\n      <td>-122.426995</td>\n      <td>37.800873</td>\n    </tr>\n    <tr>\n      <th>4</th>\n      <td>2015-05-13 23:30:00</td>\n      <td>LARCENY/THEFT</td>\n      <td>GRAND THEFT FROM LOCKED AUTO</td>\n      <td>Wednesday</td>\n      <td>PARK</td>\n      <td>NONE</td>\n      <td>100 Block of BRODERICK ST</td>\n      <td>-122.438738</td>\n      <td>37.771541</td>\n    </tr>\n  </tbody>\n</table>\n</div>"
     },
     "metadata": {},
     "execution_count": 2
    }
   ],
   "source": [
    "train_data=pd.read_csv('train.csv.zip')\n",
    "train_data.head()"
   ]
  },
  {
   "cell_type": "code",
   "execution_count": 3,
   "metadata": {
    "execution": {
     "iopub.execute_input": "2021-02-26T06:42:13.144062Z",
     "iopub.status.busy": "2021-02-26T06:42:13.143243Z",
     "iopub.status.idle": "2021-02-26T06:42:15.488693Z",
     "shell.execute_reply": "2021-02-26T06:42:15.488134Z"
    },
    "papermill": {
     "duration": 2.367403,
     "end_time": "2021-02-26T06:42:15.488859",
     "exception": false,
     "start_time": "2021-02-26T06:42:13.121456",
     "status": "completed"
    },
    "tags": []
   },
   "outputs": [
    {
     "output_type": "execute_result",
     "data": {
      "text/plain": [
       "   Id                Dates DayOfWeek PdDistrict                   Address  \\\n",
       "0   0  2015-05-10 23:59:00    Sunday    BAYVIEW   2000 Block of THOMAS AV   \n",
       "1   1  2015-05-10 23:51:00    Sunday    BAYVIEW        3RD ST / REVERE AV   \n",
       "2   2  2015-05-10 23:50:00    Sunday   NORTHERN    2000 Block of GOUGH ST   \n",
       "3   3  2015-05-10 23:45:00    Sunday  INGLESIDE  4700 Block of MISSION ST   \n",
       "4   4  2015-05-10 23:45:00    Sunday  INGLESIDE  4700 Block of MISSION ST   \n",
       "\n",
       "            X          Y  \n",
       "0 -122.399588  37.735051  \n",
       "1 -122.391523  37.732432  \n",
       "2 -122.426002  37.792212  \n",
       "3 -122.437394  37.721412  \n",
       "4 -122.437394  37.721412  "
      ],
      "text/html": "<div>\n<style scoped>\n    .dataframe tbody tr th:only-of-type {\n        vertical-align: middle;\n    }\n\n    .dataframe tbody tr th {\n        vertical-align: top;\n    }\n\n    .dataframe thead th {\n        text-align: right;\n    }\n</style>\n<table border=\"1\" class=\"dataframe\">\n  <thead>\n    <tr style=\"text-align: right;\">\n      <th></th>\n      <th>Id</th>\n      <th>Dates</th>\n      <th>DayOfWeek</th>\n      <th>PdDistrict</th>\n      <th>Address</th>\n      <th>X</th>\n      <th>Y</th>\n    </tr>\n  </thead>\n  <tbody>\n    <tr>\n      <th>0</th>\n      <td>0</td>\n      <td>2015-05-10 23:59:00</td>\n      <td>Sunday</td>\n      <td>BAYVIEW</td>\n      <td>2000 Block of THOMAS AV</td>\n      <td>-122.399588</td>\n      <td>37.735051</td>\n    </tr>\n    <tr>\n      <th>1</th>\n      <td>1</td>\n      <td>2015-05-10 23:51:00</td>\n      <td>Sunday</td>\n      <td>BAYVIEW</td>\n      <td>3RD ST / REVERE AV</td>\n      <td>-122.391523</td>\n      <td>37.732432</td>\n    </tr>\n    <tr>\n      <th>2</th>\n      <td>2</td>\n      <td>2015-05-10 23:50:00</td>\n      <td>Sunday</td>\n      <td>NORTHERN</td>\n      <td>2000 Block of GOUGH ST</td>\n      <td>-122.426002</td>\n      <td>37.792212</td>\n    </tr>\n    <tr>\n      <th>3</th>\n      <td>3</td>\n      <td>2015-05-10 23:45:00</td>\n      <td>Sunday</td>\n      <td>INGLESIDE</td>\n      <td>4700 Block of MISSION ST</td>\n      <td>-122.437394</td>\n      <td>37.721412</td>\n    </tr>\n    <tr>\n      <th>4</th>\n      <td>4</td>\n      <td>2015-05-10 23:45:00</td>\n      <td>Sunday</td>\n      <td>INGLESIDE</td>\n      <td>4700 Block of MISSION ST</td>\n      <td>-122.437394</td>\n      <td>37.721412</td>\n    </tr>\n  </tbody>\n</table>\n</div>"
     },
     "metadata": {},
     "execution_count": 3
    }
   ],
   "source": [
    "test_data=pd.read_csv('test.csv.zip')\n",
    "test_data.head()"
   ]
  },
  {
   "source": [
    "## 清洗数据\n",
    "### 填补无效数据"
   ],
   "cell_type": "markdown",
   "metadata": {
    "papermill": {
     "duration": 0.017977,
     "end_time": "2021-02-26T06:42:15.523940",
     "exception": false,
     "start_time": "2021-02-26T06:42:15.505963",
     "status": "completed"
    },
    "tags": []
   }
  },
  {
   "cell_type": "code",
   "execution_count": 4,
   "metadata": {},
   "outputs": [],
   "source": [
    "train_data.drop_duplicates(inplace=True)\n",
    "train_data.replace({'X': -120.5, 'Y': 90.0}, np.NaN, inplace=True)\n",
    "test_data.replace({'X': -120.5, 'Y': 90.0}, np.NaN, inplace=True)\n",
    "\n",
    "imp = SimpleImputer(strategy='mean')\n",
    "\n",
    "for district in train_data['PdDistrict'].unique():\n",
    "    train_data.loc[train_data['PdDistrict'] == district, ['X', 'Y']] = imp.fit_transform(\n",
    "        train_data.loc[train_data['PdDistrict'] == district, ['X', 'Y']])\n",
    "    test_data.loc[test_data['PdDistrict'] == district, ['X', 'Y']] = imp.transform(\n",
    "        test_data.loc[test_data['PdDistrict'] == district, ['X', 'Y']])"
   ]
  },
  {
   "source": [
    "### 删除无关特征"
   ],
   "cell_type": "markdown",
   "metadata": {}
  },
  {
   "cell_type": "code",
   "execution_count": 5,
   "metadata": {},
   "outputs": [],
   "source": [
    "train_data.drop(['Descript','Resolution'],inplace=True,axis=1)\n",
    "train_data.drop('Address',inplace=True,axis=1)\n",
    "test_data.drop('Address',inplace=True,axis=1)\n",
    "test_data.drop('Id',inplace=True,axis=1)"
   ]
  },
  {
   "source": [
    "### 对 PdDistrict 特征独热编码"
   ],
   "cell_type": "markdown",
   "metadata": {
    "papermill": {
     "duration": 0.017699,
     "end_time": "2021-02-26T06:42:15.969107",
     "exception": false,
     "start_time": "2021-02-26T06:42:15.951408",
     "status": "completed"
    },
    "tags": []
   }
  },
  {
   "cell_type": "code",
   "execution_count": 6,
   "metadata": {
    "execution": {
     "iopub.execute_input": "2021-02-26T06:42:16.019161Z",
     "iopub.status.busy": "2021-02-26T06:42:16.018191Z",
     "iopub.status.idle": "2021-02-26T06:42:17.364521Z",
     "shell.execute_reply": "2021-02-26T06:42:17.363788Z"
    },
    "papermill": {
     "duration": 1.372999,
     "end_time": "2021-02-26T06:42:17.364672",
     "exception": false,
     "start_time": "2021-02-26T06:42:15.991673",
     "status": "completed"
    },
    "tags": []
   },
   "outputs": [],
   "source": [
    "dummies_train=pd.get_dummies(train_data['PdDistrict'])\n",
    "dummies_test=pd.get_dummies(test_data['PdDistrict'])\n",
    "\n",
    "train_data=pd.concat([train_data,dummies_train],axis=1)\n",
    "train_data.drop('PdDistrict',inplace=True,axis=1)\n",
    "\n",
    "test_data=pd.concat([test_data,dummies_test],axis=1)\n",
    "test_data.drop('PdDistrict',inplace=True,axis=1)"
   ]
  },
  {
   "source": [
    "### 替换星期"
   ],
   "cell_type": "markdown",
   "metadata": {}
  },
  {
   "cell_type": "code",
   "execution_count": 7,
   "metadata": {},
   "outputs": [],
   "source": [
    "train_data['DayOfWeek'].replace(to_replace=['Monday','Tuesday','Wednesday','Thursday','Friday','Saturday','Sunday'],value=[i for i in range(0,7)],inplace=True)\n",
    "test_data['DayOfWeek'].replace(to_replace=['Monday','Tuesday','Wednesday','Thursday','Friday','Saturday','Sunday'],value=[i for i in range(0,7)],inplace=True)"
   ]
  },
  {
   "source": [
    "### 替换日期与时分"
   ],
   "cell_type": "markdown",
   "metadata": {
    "papermill": {
     "duration": 0.019346,
     "end_time": "2021-02-26T06:42:17.526440",
     "exception": false,
     "start_time": "2021-02-26T06:42:17.507094",
     "status": "completed"
    },
    "tags": []
   }
  },
  {
   "cell_type": "code",
   "execution_count": 8,
   "metadata": {
    "execution": {
     "iopub.execute_input": "2021-02-26T06:42:17.642369Z",
     "iopub.status.busy": "2021-02-26T06:42:17.636940Z",
     "iopub.status.idle": "2021-02-26T06:42:19.454559Z",
     "shell.execute_reply": "2021-02-26T06:42:19.454034Z"
    },
    "papermill": {
     "duration": 1.907931,
     "end_time": "2021-02-26T06:42:19.454715",
     "exception": false,
     "start_time": "2021-02-26T06:42:17.546784",
     "status": "completed"
    },
    "tags": []
   },
   "outputs": [],
   "source": [
    "ls1=list(train_data['Dates'])\n",
    "for i in range(len(ls1)):\n",
    "    ls1[i]=ls1[i][:4:]\n",
    "train_data['Year']=ls1 \n",
    "\n",
    "ls1=list(train_data['Dates'])\n",
    "for i in range(len(ls1)):\n",
    "    ls1[i]=ls1[i][5:7:]\n",
    "train_data['Month']=ls1 \n",
    "\n",
    "ls1=list(train_data['Dates'])\n",
    "for i in range(len(ls1)):\n",
    "    ls1[i]=ls1[i][8:10:]\n",
    "train_data['Day']=ls1 \n",
    "\n",
    "ls1=list(train_data['Dates'])\n",
    "for i in range(len(ls1)):\n",
    "    ls1[i]=ls1[i][11:-6:]\n",
    "train_data['Hours']=ls1\n",
    "\n",
    "ls1=list(train_data['Dates'])\n",
    "for i in range(len(ls1)):\n",
    "    ls1[i]=ls1[i][-5:-3:]\n",
    "train_data['Minutes']=ls1\n",
    "\n",
    "train_data.drop('Dates',axis=1,inplace=True)"
   ]
  },
  {
   "cell_type": "code",
   "execution_count": 9,
   "metadata": {
    "execution": {
     "iopub.execute_input": "2021-02-26T06:42:19.582409Z",
     "iopub.status.busy": "2021-02-26T06:42:19.571822Z",
     "iopub.status.idle": "2021-02-26T06:42:21.357103Z",
     "shell.execute_reply": "2021-02-26T06:42:21.356423Z"
    },
    "papermill": {
     "duration": 1.882049,
     "end_time": "2021-02-26T06:42:21.357258",
     "exception": false,
     "start_time": "2021-02-26T06:42:19.475209",
     "status": "completed"
    },
    "tags": []
   },
   "outputs": [],
   "source": [
    "ls1=list(test_data['Dates'])\n",
    "for i in range(len(ls1)):\n",
    "    ls1[i]=ls1[i][:4:]\n",
    "test_data['Year']=ls1 \n",
    "\n",
    "ls1=list(test_data['Dates'])\n",
    "for i in range(len(ls1)):\n",
    "    ls1[i]=ls1[i][5:7:]\n",
    "test_data['Month']=ls1 \n",
    "\n",
    "ls1=list(test_data['Dates'])\n",
    "for i in range(len(ls1)):\n",
    "    ls1[i]=ls1[i][8:10:]\n",
    "test_data['Day']=ls1 \n",
    "\n",
    "ls1=list(test_data['Dates'])\n",
    "for i in range(len(ls1)):\n",
    "    ls1[i]=ls1[i][11:-6:]\n",
    "test_data['Hours']=ls1\n",
    "\n",
    "ls1=list(test_data['Dates'])\n",
    "for i in range(len(ls1)):\n",
    "    ls1[i]=ls1[i][-5:-3:]\n",
    "test_data['Minutes']=ls1\n",
    "\n",
    "test_data.drop('Dates',axis=1,inplace=True)"
   ]
  },
  {
   "source": [
    "### 对分类结果进行独热编码"
   ],
   "cell_type": "markdown",
   "metadata": {}
  },
  {
   "cell_type": "code",
   "execution_count": 10,
   "metadata": {
    "execution": {
     "iopub.execute_input": "2021-02-26T06:42:21.686647Z",
     "iopub.status.busy": "2021-02-26T06:42:21.686029Z",
     "iopub.status.idle": "2021-02-26T06:42:21.765186Z",
     "shell.execute_reply": "2021-02-26T06:42:21.764600Z"
    },
    "papermill": {
     "duration": 0.122777,
     "end_time": "2021-02-26T06:42:21.765336",
     "exception": false,
     "start_time": "2021-02-26T06:42:21.642559",
     "status": "completed"
    },
    "tags": []
   },
   "outputs": [
    {
     "output_type": "execute_result",
     "data": {
      "text/plain": [
       "   ARSON  ASSAULT  BAD CHECKS  BRIBERY  BURGLARY  DISORDERLY CONDUCT  \\\n",
       "0      0        0           0        0         0                   0   \n",
       "1      0        0           0        0         0                   0   \n",
       "2      0        0           0        0         0                   0   \n",
       "3      0        0           0        0         0                   0   \n",
       "4      0        0           0        0         0                   0   \n",
       "\n",
       "   DRIVING UNDER THE INFLUENCE  DRUG/NARCOTIC  DRUNKENNESS  EMBEZZLEMENT  ...  \\\n",
       "0                            0              0            0             0  ...   \n",
       "1                            0              0            0             0  ...   \n",
       "2                            0              0            0             0  ...   \n",
       "3                            0              0            0             0  ...   \n",
       "4                            0              0            0             0  ...   \n",
       "\n",
       "   SEX OFFENSES NON FORCIBLE  STOLEN PROPERTY  SUICIDE  SUSPICIOUS OCC  TREA  \\\n",
       "0                          0                0        0               0     0   \n",
       "1                          0                0        0               0     0   \n",
       "2                          0                0        0               0     0   \n",
       "3                          0                0        0               0     0   \n",
       "4                          0                0        0               0     0   \n",
       "\n",
       "   TRESPASS  VANDALISM  VEHICLE THEFT  WARRANTS  WEAPON LAWS  \n",
       "0         0          0              0         1            0  \n",
       "1         0          0              0         0            0  \n",
       "2         0          0              0         0            0  \n",
       "3         0          0              0         0            0  \n",
       "4         0          0              0         0            0  \n",
       "\n",
       "[5 rows x 39 columns]"
      ],
      "text/html": "<div>\n<style scoped>\n    .dataframe tbody tr th:only-of-type {\n        vertical-align: middle;\n    }\n\n    .dataframe tbody tr th {\n        vertical-align: top;\n    }\n\n    .dataframe thead th {\n        text-align: right;\n    }\n</style>\n<table border=\"1\" class=\"dataframe\">\n  <thead>\n    <tr style=\"text-align: right;\">\n      <th></th>\n      <th>ARSON</th>\n      <th>ASSAULT</th>\n      <th>BAD CHECKS</th>\n      <th>BRIBERY</th>\n      <th>BURGLARY</th>\n      <th>DISORDERLY CONDUCT</th>\n      <th>DRIVING UNDER THE INFLUENCE</th>\n      <th>DRUG/NARCOTIC</th>\n      <th>DRUNKENNESS</th>\n      <th>EMBEZZLEMENT</th>\n      <th>...</th>\n      <th>SEX OFFENSES NON FORCIBLE</th>\n      <th>STOLEN PROPERTY</th>\n      <th>SUICIDE</th>\n      <th>SUSPICIOUS OCC</th>\n      <th>TREA</th>\n      <th>TRESPASS</th>\n      <th>VANDALISM</th>\n      <th>VEHICLE THEFT</th>\n      <th>WARRANTS</th>\n      <th>WEAPON LAWS</th>\n    </tr>\n  </thead>\n  <tbody>\n    <tr>\n      <th>0</th>\n      <td>0</td>\n      <td>0</td>\n      <td>0</td>\n      <td>0</td>\n      <td>0</td>\n      <td>0</td>\n      <td>0</td>\n      <td>0</td>\n      <td>0</td>\n      <td>0</td>\n      <td>...</td>\n      <td>0</td>\n      <td>0</td>\n      <td>0</td>\n      <td>0</td>\n      <td>0</td>\n      <td>0</td>\n      <td>0</td>\n      <td>0</td>\n      <td>1</td>\n      <td>0</td>\n    </tr>\n    <tr>\n      <th>1</th>\n      <td>0</td>\n      <td>0</td>\n      <td>0</td>\n      <td>0</td>\n      <td>0</td>\n      <td>0</td>\n      <td>0</td>\n      <td>0</td>\n      <td>0</td>\n      <td>0</td>\n      <td>...</td>\n      <td>0</td>\n      <td>0</td>\n      <td>0</td>\n      <td>0</td>\n      <td>0</td>\n      <td>0</td>\n      <td>0</td>\n      <td>0</td>\n      <td>0</td>\n      <td>0</td>\n    </tr>\n    <tr>\n      <th>2</th>\n      <td>0</td>\n      <td>0</td>\n      <td>0</td>\n      <td>0</td>\n      <td>0</td>\n      <td>0</td>\n      <td>0</td>\n      <td>0</td>\n      <td>0</td>\n      <td>0</td>\n      <td>...</td>\n      <td>0</td>\n      <td>0</td>\n      <td>0</td>\n      <td>0</td>\n      <td>0</td>\n      <td>0</td>\n      <td>0</td>\n      <td>0</td>\n      <td>0</td>\n      <td>0</td>\n    </tr>\n    <tr>\n      <th>3</th>\n      <td>0</td>\n      <td>0</td>\n      <td>0</td>\n      <td>0</td>\n      <td>0</td>\n      <td>0</td>\n      <td>0</td>\n      <td>0</td>\n      <td>0</td>\n      <td>0</td>\n      <td>...</td>\n      <td>0</td>\n      <td>0</td>\n      <td>0</td>\n      <td>0</td>\n      <td>0</td>\n      <td>0</td>\n      <td>0</td>\n      <td>0</td>\n      <td>0</td>\n      <td>0</td>\n    </tr>\n    <tr>\n      <th>4</th>\n      <td>0</td>\n      <td>0</td>\n      <td>0</td>\n      <td>0</td>\n      <td>0</td>\n      <td>0</td>\n      <td>0</td>\n      <td>0</td>\n      <td>0</td>\n      <td>0</td>\n      <td>...</td>\n      <td>0</td>\n      <td>0</td>\n      <td>0</td>\n      <td>0</td>\n      <td>0</td>\n      <td>0</td>\n      <td>0</td>\n      <td>0</td>\n      <td>0</td>\n      <td>0</td>\n    </tr>\n  </tbody>\n</table>\n<p>5 rows × 39 columns</p>\n</div>"
     },
     "metadata": {},
     "execution_count": 10
    }
   ],
   "source": [
    "y=pd.get_dummies(train_data['Category'])\n",
    "train_data.drop('Category',inplace=True,axis=1)\n",
    "y.head()"
   ]
  },
  {
   "cell_type": "code",
   "execution_count": 11,
   "metadata": {},
   "outputs": [
    {
     "output_type": "execute_result",
     "data": {
      "text/plain": [
       "   DayOfWeek           X          Y  BAYVIEW  CENTRAL  INGLESIDE  MISSION  \\\n",
       "0          2 -122.425892  37.774599        0        0          0        0   \n",
       "1          2 -122.425892  37.774599        0        0          0        0   \n",
       "2          2 -122.424363  37.800414        0        0          0        0   \n",
       "3          2 -122.426995  37.800873        0        0          0        0   \n",
       "4          2 -122.438738  37.771541        0        0          0        0   \n",
       "\n",
       "   NORTHERN  PARK  RICHMOND  SOUTHERN  TARAVAL  TENDERLOIN  Year Month Day  \\\n",
       "0         1     0         0         0        0           0  2015    05  13   \n",
       "1         1     0         0         0        0           0  2015    05  13   \n",
       "2         1     0         0         0        0           0  2015    05  13   \n",
       "3         1     0         0         0        0           0  2015    05  13   \n",
       "4         0     1         0         0        0           0  2015    05  13   \n",
       "\n",
       "  Hours Minutes  \n",
       "0    23      53  \n",
       "1    23      53  \n",
       "2    23      33  \n",
       "3    23      30  \n",
       "4    23      30  "
      ],
      "text/html": "<div>\n<style scoped>\n    .dataframe tbody tr th:only-of-type {\n        vertical-align: middle;\n    }\n\n    .dataframe tbody tr th {\n        vertical-align: top;\n    }\n\n    .dataframe thead th {\n        text-align: right;\n    }\n</style>\n<table border=\"1\" class=\"dataframe\">\n  <thead>\n    <tr style=\"text-align: right;\">\n      <th></th>\n      <th>DayOfWeek</th>\n      <th>X</th>\n      <th>Y</th>\n      <th>BAYVIEW</th>\n      <th>CENTRAL</th>\n      <th>INGLESIDE</th>\n      <th>MISSION</th>\n      <th>NORTHERN</th>\n      <th>PARK</th>\n      <th>RICHMOND</th>\n      <th>SOUTHERN</th>\n      <th>TARAVAL</th>\n      <th>TENDERLOIN</th>\n      <th>Year</th>\n      <th>Month</th>\n      <th>Day</th>\n      <th>Hours</th>\n      <th>Minutes</th>\n    </tr>\n  </thead>\n  <tbody>\n    <tr>\n      <th>0</th>\n      <td>2</td>\n      <td>-122.425892</td>\n      <td>37.774599</td>\n      <td>0</td>\n      <td>0</td>\n      <td>0</td>\n      <td>0</td>\n      <td>1</td>\n      <td>0</td>\n      <td>0</td>\n      <td>0</td>\n      <td>0</td>\n      <td>0</td>\n      <td>2015</td>\n      <td>05</td>\n      <td>13</td>\n      <td>23</td>\n      <td>53</td>\n    </tr>\n    <tr>\n      <th>1</th>\n      <td>2</td>\n      <td>-122.425892</td>\n      <td>37.774599</td>\n      <td>0</td>\n      <td>0</td>\n      <td>0</td>\n      <td>0</td>\n      <td>1</td>\n      <td>0</td>\n      <td>0</td>\n      <td>0</td>\n      <td>0</td>\n      <td>0</td>\n      <td>2015</td>\n      <td>05</td>\n      <td>13</td>\n      <td>23</td>\n      <td>53</td>\n    </tr>\n    <tr>\n      <th>2</th>\n      <td>2</td>\n      <td>-122.424363</td>\n      <td>37.800414</td>\n      <td>0</td>\n      <td>0</td>\n      <td>0</td>\n      <td>0</td>\n      <td>1</td>\n      <td>0</td>\n      <td>0</td>\n      <td>0</td>\n      <td>0</td>\n      <td>0</td>\n      <td>2015</td>\n      <td>05</td>\n      <td>13</td>\n      <td>23</td>\n      <td>33</td>\n    </tr>\n    <tr>\n      <th>3</th>\n      <td>2</td>\n      <td>-122.426995</td>\n      <td>37.800873</td>\n      <td>0</td>\n      <td>0</td>\n      <td>0</td>\n      <td>0</td>\n      <td>1</td>\n      <td>0</td>\n      <td>0</td>\n      <td>0</td>\n      <td>0</td>\n      <td>0</td>\n      <td>2015</td>\n      <td>05</td>\n      <td>13</td>\n      <td>23</td>\n      <td>30</td>\n    </tr>\n    <tr>\n      <th>4</th>\n      <td>2</td>\n      <td>-122.438738</td>\n      <td>37.771541</td>\n      <td>0</td>\n      <td>0</td>\n      <td>0</td>\n      <td>0</td>\n      <td>0</td>\n      <td>1</td>\n      <td>0</td>\n      <td>0</td>\n      <td>0</td>\n      <td>0</td>\n      <td>2015</td>\n      <td>05</td>\n      <td>13</td>\n      <td>23</td>\n      <td>30</td>\n    </tr>\n  </tbody>\n</table>\n</div>"
     },
     "metadata": {},
     "execution_count": 11
    }
   ],
   "source": [
    "train_data.head()"
   ]
  },
  {
   "cell_type": "code",
   "execution_count": 12,
   "metadata": {},
   "outputs": [
    {
     "output_type": "execute_result",
     "data": {
      "text/plain": [
       "   DayOfWeek           X          Y  BAYVIEW  CENTRAL  INGLESIDE  MISSION  \\\n",
       "0          6 -122.399588  37.735051        1        0          0        0   \n",
       "1          6 -122.391523  37.732432        1        0          0        0   \n",
       "2          6 -122.426002  37.792212        0        0          0        0   \n",
       "3          6 -122.437394  37.721412        0        0          1        0   \n",
       "4          6 -122.437394  37.721412        0        0          1        0   \n",
       "\n",
       "   NORTHERN  PARK  RICHMOND  SOUTHERN  TARAVAL  TENDERLOIN  Year Month Day  \\\n",
       "0         0     0         0         0        0           0  2015    05  10   \n",
       "1         0     0         0         0        0           0  2015    05  10   \n",
       "2         1     0         0         0        0           0  2015    05  10   \n",
       "3         0     0         0         0        0           0  2015    05  10   \n",
       "4         0     0         0         0        0           0  2015    05  10   \n",
       "\n",
       "  Hours Minutes  \n",
       "0    23      59  \n",
       "1    23      51  \n",
       "2    23      50  \n",
       "3    23      45  \n",
       "4    23      45  "
      ],
      "text/html": "<div>\n<style scoped>\n    .dataframe tbody tr th:only-of-type {\n        vertical-align: middle;\n    }\n\n    .dataframe tbody tr th {\n        vertical-align: top;\n    }\n\n    .dataframe thead th {\n        text-align: right;\n    }\n</style>\n<table border=\"1\" class=\"dataframe\">\n  <thead>\n    <tr style=\"text-align: right;\">\n      <th></th>\n      <th>DayOfWeek</th>\n      <th>X</th>\n      <th>Y</th>\n      <th>BAYVIEW</th>\n      <th>CENTRAL</th>\n      <th>INGLESIDE</th>\n      <th>MISSION</th>\n      <th>NORTHERN</th>\n      <th>PARK</th>\n      <th>RICHMOND</th>\n      <th>SOUTHERN</th>\n      <th>TARAVAL</th>\n      <th>TENDERLOIN</th>\n      <th>Year</th>\n      <th>Month</th>\n      <th>Day</th>\n      <th>Hours</th>\n      <th>Minutes</th>\n    </tr>\n  </thead>\n  <tbody>\n    <tr>\n      <th>0</th>\n      <td>6</td>\n      <td>-122.399588</td>\n      <td>37.735051</td>\n      <td>1</td>\n      <td>0</td>\n      <td>0</td>\n      <td>0</td>\n      <td>0</td>\n      <td>0</td>\n      <td>0</td>\n      <td>0</td>\n      <td>0</td>\n      <td>0</td>\n      <td>2015</td>\n      <td>05</td>\n      <td>10</td>\n      <td>23</td>\n      <td>59</td>\n    </tr>\n    <tr>\n      <th>1</th>\n      <td>6</td>\n      <td>-122.391523</td>\n      <td>37.732432</td>\n      <td>1</td>\n      <td>0</td>\n      <td>0</td>\n      <td>0</td>\n      <td>0</td>\n      <td>0</td>\n      <td>0</td>\n      <td>0</td>\n      <td>0</td>\n      <td>0</td>\n      <td>2015</td>\n      <td>05</td>\n      <td>10</td>\n      <td>23</td>\n      <td>51</td>\n    </tr>\n    <tr>\n      <th>2</th>\n      <td>6</td>\n      <td>-122.426002</td>\n      <td>37.792212</td>\n      <td>0</td>\n      <td>0</td>\n      <td>0</td>\n      <td>0</td>\n      <td>1</td>\n      <td>0</td>\n      <td>0</td>\n      <td>0</td>\n      <td>0</td>\n      <td>0</td>\n      <td>2015</td>\n      <td>05</td>\n      <td>10</td>\n      <td>23</td>\n      <td>50</td>\n    </tr>\n    <tr>\n      <th>3</th>\n      <td>6</td>\n      <td>-122.437394</td>\n      <td>37.721412</td>\n      <td>0</td>\n      <td>0</td>\n      <td>1</td>\n      <td>0</td>\n      <td>0</td>\n      <td>0</td>\n      <td>0</td>\n      <td>0</td>\n      <td>0</td>\n      <td>0</td>\n      <td>2015</td>\n      <td>05</td>\n      <td>10</td>\n      <td>23</td>\n      <td>45</td>\n    </tr>\n    <tr>\n      <th>4</th>\n      <td>6</td>\n      <td>-122.437394</td>\n      <td>37.721412</td>\n      <td>0</td>\n      <td>0</td>\n      <td>1</td>\n      <td>0</td>\n      <td>0</td>\n      <td>0</td>\n      <td>0</td>\n      <td>0</td>\n      <td>0</td>\n      <td>0</td>\n      <td>2015</td>\n      <td>05</td>\n      <td>10</td>\n      <td>23</td>\n      <td>45</td>\n    </tr>\n  </tbody>\n</table>\n</div>"
     },
     "metadata": {},
     "execution_count": 12
    }
   ],
   "source": [
    "test_data.head()"
   ]
  },
  {
   "source": [
    "### 最终训练集与分类"
   ],
   "cell_type": "markdown",
   "metadata": {}
  },
  {
   "cell_type": "code",
   "execution_count": 13,
   "metadata": {},
   "outputs": [
    {
     "output_type": "stream",
     "name": "stdout",
     "text": [
      "(788153, 18) (788153, 39)\n(87573, 18) (87573, 39)\n"
     ]
    }
   ],
   "source": [
    "X=train_data.astype(float)\n",
    "X_train,X_test,y_train,y_test=train_test_split(X,y,test_size=0.1,random_state=42)\n",
    "print(X_train.shape,y_train.shape)\n",
    "print(X_test.shape,y_test.shape)"
   ]
  },
  {
   "source": [
    "## 构建网络\n",
    "### 结构"
   ],
   "cell_type": "markdown",
   "metadata": {
    "papermill": {
     "duration": 0.023454,
     "end_time": "2021-02-26T06:42:23.876020",
     "exception": false,
     "start_time": "2021-02-26T06:42:23.852566",
     "status": "completed"
    },
    "tags": []
   }
  },
  {
   "cell_type": "code",
   "execution_count": 14,
   "metadata": {
    "execution": {
     "iopub.execute_input": "2021-02-26T06:42:23.929267Z",
     "iopub.status.busy": "2021-02-26T06:42:23.928400Z",
     "iopub.status.idle": "2021-02-26T06:42:24.073633Z",
     "shell.execute_reply": "2021-02-26T06:42:24.073146Z"
    },
    "papermill": {
     "duration": 0.175103,
     "end_time": "2021-02-26T06:42:24.073784",
     "exception": false,
     "start_time": "2021-02-26T06:42:23.898681",
     "status": "completed"
    },
    "tags": []
   },
   "outputs": [
    {
     "output_type": "stream",
     "name": "stdout",
     "text": [
      "Model: \"sequential\"\n_________________________________________________________________\nLayer (type)                 Output Shape              Param #   \n=================================================================\ndense (Dense)                (None, 128)               2432      \n_________________________________________________________________\ndense_1 (Dense)              (None, 128)               16512     \n_________________________________________________________________\ndense_2 (Dense)              (None, 64)                8256      \n_________________________________________________________________\ndense_3 (Dense)              (None, 64)                4160      \n_________________________________________________________________\ndense_4 (Dense)              (None, 64)                4160      \n_________________________________________________________________\ndense_5 (Dense)              (None, 64)                4160      \n_________________________________________________________________\ndense_6 (Dense)              (None, 39)                2535      \n=================================================================\nTotal params: 42,215\nTrainable params: 42,215\nNon-trainable params: 0\n_________________________________________________________________\n"
     ]
    }
   ],
   "source": [
    "model=Sequential()\n",
    "model.add(Dense(128,input_shape=(X.shape[1],)))\n",
    "model.add(Dense(128,activation='relu'))\n",
    "model.add(Dense(64,activation='relu'))\n",
    "model.add(Dense(64,activation='relu'))\n",
    "model.add(Dense(64,activation='relu'))\n",
    "model.add(Dense(64,activation='relu'))\n",
    "model.add(Dense(39,activation='softmax'))\n",
    "model.summary()"
   ]
  },
  {
   "source": [
    "### 参数与训练结果"
   ],
   "cell_type": "markdown",
   "metadata": {
    "papermill": {
     "duration": 0.024562,
     "end_time": "2021-02-26T06:42:24.122053",
     "exception": false,
     "start_time": "2021-02-26T06:42:24.097491",
     "status": "completed"
    },
    "tags": []
   }
  },
  {
   "cell_type": "code",
   "execution_count": 15,
   "metadata": {
    "execution": {
     "iopub.execute_input": "2021-02-26T06:42:24.172146Z",
     "iopub.status.busy": "2021-02-26T06:42:24.171491Z",
     "iopub.status.idle": "2021-02-26T06:42:24.186543Z",
     "shell.execute_reply": "2021-02-26T06:42:24.187240Z"
    },
    "papermill": {
     "duration": 0.042006,
     "end_time": "2021-02-26T06:42:24.187439",
     "exception": false,
     "start_time": "2021-02-26T06:42:24.145433",
     "status": "completed"
    },
    "tags": []
   },
   "outputs": [],
   "source": [
    "model.compile(optimizer='adam',\n",
    "              loss='categorical_crossentropy',\n",
    "              metrics=['accuracy'])"
   ]
  },
  {
   "cell_type": "code",
   "execution_count": 16,
   "metadata": {
    "execution": {
     "iopub.execute_input": "2021-02-26T06:42:24.239759Z",
     "iopub.status.busy": "2021-02-26T06:42:24.239168Z",
     "iopub.status.idle": "2021-02-26T06:50:28.692585Z",
     "shell.execute_reply": "2021-02-26T06:50:28.693069Z"
    },
    "papermill": {
     "duration": 484.480641,
     "end_time": "2021-02-26T06:50:28.693251",
     "exception": false,
     "start_time": "2021-02-26T06:42:24.212610",
     "status": "completed"
    },
    "tags": []
   },
   "outputs": [
    {
     "output_type": "stream",
     "name": "stdout",
     "text": [
      "Epoch 1/20\n",
      "24630/24630 - 38s - loss: 2.6556 - accuracy: 0.2157 - val_loss: 2.6149 - val_accuracy: 0.2232\n",
      "Epoch 2/20\n",
      "24630/24630 - 37s - loss: 2.5970 - accuracy: 0.2288 - val_loss: 2.6254 - val_accuracy: 0.2134\n",
      "Epoch 3/20\n",
      "24630/24630 - 36s - loss: 2.5891 - accuracy: 0.2306 - val_loss: 2.5979 - val_accuracy: 0.2255\n",
      "Epoch 4/20\n",
      "24630/24630 - 36s - loss: 2.5803 - accuracy: 0.2344 - val_loss: 2.5657 - val_accuracy: 0.2325\n",
      "Epoch 5/20\n",
      "24630/24630 - 37s - loss: 2.5752 - accuracy: 0.2355 - val_loss: 2.5645 - val_accuracy: 0.2376\n",
      "Epoch 6/20\n",
      "24630/24630 - 37s - loss: 2.5646 - accuracy: 0.2392 - val_loss: 2.5571 - val_accuracy: 0.2385\n",
      "Epoch 7/20\n",
      "24630/24630 - 37s - loss: 2.5686 - accuracy: 0.2366 - val_loss: 2.5783 - val_accuracy: 0.2322\n",
      "Epoch 8/20\n",
      "24630/24630 - 37s - loss: 2.5883 - accuracy: 0.2295 - val_loss: 2.5928 - val_accuracy: 0.2288\n",
      "Epoch 9/20\n",
      "24630/24630 - 37s - loss: 2.5911 - accuracy: 0.2306 - val_loss: 2.5897 - val_accuracy: 0.2306\n",
      "Epoch 10/20\n",
      "24630/24630 - 37s - loss: 2.5886 - accuracy: 0.2333 - val_loss: 2.5911 - val_accuracy: 0.2310\n",
      "Epoch 11/20\n",
      "24630/24630 - 37s - loss: 2.5706 - accuracy: 0.2380 - val_loss: 2.5633 - val_accuracy: 0.2383\n",
      "Epoch 12/20\n",
      "24630/24630 - 37s - loss: 2.5619 - accuracy: 0.2391 - val_loss: 2.5507 - val_accuracy: 0.2388\n",
      "Epoch 13/20\n",
      "24630/24630 - 37s - loss: 2.5674 - accuracy: 0.2382 - val_loss: 2.5648 - val_accuracy: 0.2318\n",
      "Epoch 14/20\n",
      "24630/24630 - 34s - loss: 2.5658 - accuracy: 0.2378 - val_loss: 2.5539 - val_accuracy: 0.2387\n",
      "Epoch 15/20\n",
      "24630/24630 - 35s - loss: 2.5589 - accuracy: 0.2412 - val_loss: 2.5471 - val_accuracy: 0.2418\n",
      "Epoch 16/20\n",
      "24630/24630 - 34s - loss: 2.5571 - accuracy: 0.2419 - val_loss: 2.5546 - val_accuracy: 0.2398\n",
      "Epoch 17/20\n",
      "24630/24630 - 34s - loss: 2.5548 - accuracy: 0.2430 - val_loss: 2.5462 - val_accuracy: 0.2429\n",
      "Epoch 18/20\n",
      "24630/24630 - 34s - loss: 2.5521 - accuracy: 0.2433 - val_loss: 2.5503 - val_accuracy: 0.2428\n",
      "Epoch 19/20\n",
      "24630/24630 - 34s - loss: 2.5535 - accuracy: 0.2431 - val_loss: 2.5519 - val_accuracy: 0.2422\n",
      "Epoch 20/20\n",
      "24630/24630 - 34s - loss: 2.5511 - accuracy: 0.2440 - val_loss: 2.5596 - val_accuracy: 0.2391\n"
     ]
    }
   ],
   "source": [
    "train=model.fit(X_train,y_train, \n",
    "         batch_size=32,\n",
    "         epochs=20,\n",
    "         verbose=2,\n",
    "         validation_data=(X_test,y_test))"
   ]
  },
  {
   "source": [
    "## 预测"
   ],
   "cell_type": "markdown",
   "metadata": {
    "papermill": {
     "duration": 0.027899,
     "end_time": "2021-02-26T06:50:29.393641",
     "exception": false,
     "start_time": "2021-02-26T06:50:29.365742",
     "status": "completed"
    },
    "tags": []
   }
  },
  {
   "cell_type": "code",
   "execution_count": 17,
   "metadata": {
    "execution": {
     "iopub.execute_input": "2021-02-26T06:50:29.455891Z",
     "iopub.status.busy": "2021-02-26T06:50:29.455259Z",
     "iopub.status.idle": "2021-02-26T06:50:51.587735Z",
     "shell.execute_reply": "2021-02-26T06:50:51.588260Z"
    },
    "papermill": {
     "duration": 22.166475,
     "end_time": "2021-02-26T06:50:51.588472",
     "exception": false,
     "start_time": "2021-02-26T06:50:29.421997",
     "status": "completed"
    },
    "tags": []
   },
   "outputs": [
    {
     "output_type": "execute_result",
     "data": {
      "text/plain": [
       "array([[3.91135551e-03, 1.23311199e-01, 7.86129312e-05, ...,\n",
       "        2.75240112e-02, 7.27792382e-02, 2.51158308e-02],\n",
       "       [4.44176095e-03, 1.21520147e-01, 2.37505636e-04, ...,\n",
       "        3.25555243e-02, 6.78321645e-02, 2.34932303e-02],\n",
       "       [1.44436827e-03, 9.84335914e-02, 3.85405350e-04, ...,\n",
       "        3.04364841e-02, 6.35737702e-02, 9.95170791e-03],\n",
       "       ...,\n",
       "       [1.13601377e-03, 7.83879086e-02, 1.14152860e-03, ...,\n",
       "        1.22562118e-01, 1.11570973e-02, 4.80509596e-03],\n",
       "       [1.14574388e-03, 7.77007341e-02, 7.91312661e-04, ...,\n",
       "        1.40558496e-01, 1.06269922e-02, 4.80582472e-03],\n",
       "       [1.04876026e-03, 7.74630085e-02, 1.29782781e-03, ...,\n",
       "        1.06226034e-01, 1.15413424e-02, 4.47238842e-03]], dtype=float32)"
      ]
     },
     "metadata": {},
     "execution_count": 17
    }
   ],
   "source": [
    "test=test_data.astype(float)\n",
    "pred=model.predict(test)\n",
    "pred"
   ]
  },
  {
   "cell_type": "code",
   "execution_count": 18,
   "metadata": {
    "execution": {
     "iopub.execute_input": "2021-02-26T06:50:51.653780Z",
     "iopub.status.busy": "2021-02-26T06:50:51.651958Z",
     "iopub.status.idle": "2021-02-26T06:50:51.803003Z",
     "shell.execute_reply": "2021-02-26T06:50:51.802244Z"
    },
    "papermill": {
     "duration": 0.185853,
     "end_time": "2021-02-26T06:50:51.803175",
     "exception": false,
     "start_time": "2021-02-26T06:50:51.617322",
     "status": "completed"
    },
    "tags": []
   },
   "outputs": [
    {
     "output_type": "execute_result",
     "data": {
      "text/plain": [
       "array([[0, 0, 0, ..., 0, 0, 0],\n",
       "       [0, 0, 0, ..., 0, 0, 0],\n",
       "       [0, 0, 0, ..., 0, 0, 0],\n",
       "       ...,\n",
       "       [0, 0, 0, ..., 0, 0, 0],\n",
       "       [0, 0, 0, ..., 0, 0, 0],\n",
       "       [0, 0, 0, ..., 0, 0, 0]])"
      ]
     },
     "metadata": {},
     "execution_count": 18
    }
   ],
   "source": [
    "m = np.max(pred, axis=1).reshape(-1, 1)\n",
    "predicted = np.array((pred == m), dtype='int32')\n",
    "predicted"
   ]
  },
  {
   "cell_type": "code",
   "execution_count": 19,
   "metadata": {
    "execution": {
     "iopub.execute_input": "2021-02-26T06:50:51.927818Z",
     "iopub.status.busy": "2021-02-26T06:50:51.926912Z",
     "iopub.status.idle": "2021-02-26T06:50:53.864363Z",
     "shell.execute_reply": "2021-02-26T06:50:53.863748Z"
    },
    "papermill": {
     "duration": 1.971947,
     "end_time": "2021-02-26T06:50:53.864517",
     "exception": false,
     "start_time": "2021-02-26T06:50:51.892570",
     "status": "completed"
    },
    "tags": []
   },
   "outputs": [],
   "source": [
    "sample=pd.read_csv('sampleSubmission.csv.zip')\n",
    "col_names=list(sample.columns)\n",
    "col_names.remove('Id')"
   ]
  },
  {
   "cell_type": "code",
   "execution_count": 20,
   "metadata": {
    "execution": {
     "iopub.execute_input": "2021-02-26T06:50:53.930531Z",
     "iopub.status.busy": "2021-02-26T06:50:53.929833Z",
     "iopub.status.idle": "2021-02-26T06:50:54.411022Z",
     "shell.execute_reply": "2021-02-26T06:50:54.411473Z"
    },
    "papermill": {
     "duration": 0.516103,
     "end_time": "2021-02-26T06:50:54.411658",
     "exception": false,
     "start_time": "2021-02-26T06:50:53.895555",
     "status": "completed"
    },
    "tags": []
   },
   "outputs": [
    {
     "output_type": "execute_result",
     "data": {
      "text/plain": [
       "   ARSON  ASSAULT  BAD CHECKS  BRIBERY  BURGLARY  DISORDERLY CONDUCT  \\\n",
       "0      0        0           0        0         0                   0   \n",
       "1      0        0           0        0         0                   0   \n",
       "2      0        0           0        0         0                   0   \n",
       "3      0        0           0        0         0                   0   \n",
       "4      0        0           0        0         0                   0   \n",
       "\n",
       "   DRIVING UNDER THE INFLUENCE  DRUG/NARCOTIC  DRUNKENNESS  EMBEZZLEMENT  ...  \\\n",
       "0                            0              0            0             0  ...   \n",
       "1                            0              0            0             0  ...   \n",
       "2                            0              0            0             0  ...   \n",
       "3                            0              0            0             0  ...   \n",
       "4                            0              0            0             0  ...   \n",
       "\n",
       "   SEX OFFENSES NON FORCIBLE  STOLEN PROPERTY  SUICIDE  SUSPICIOUS OCC  TREA  \\\n",
       "0                          0                0        0               0     0   \n",
       "1                          0                0        0               0     0   \n",
       "2                          0                0        0               0     0   \n",
       "3                          0                0        0               0     0   \n",
       "4                          0                0        0               0     0   \n",
       "\n",
       "   TRESPASS  VANDALISM  VEHICLE THEFT  WARRANTS  WEAPON LAWS  \n",
       "0         0          0              0         0            0  \n",
       "1         0          0              0         0            0  \n",
       "2         0          0              0         0            0  \n",
       "3         0          0              0         0            0  \n",
       "4         0          0              0         0            0  \n",
       "\n",
       "[5 rows x 39 columns]"
      ],
      "text/html": "<div>\n<style scoped>\n    .dataframe tbody tr th:only-of-type {\n        vertical-align: middle;\n    }\n\n    .dataframe tbody tr th {\n        vertical-align: top;\n    }\n\n    .dataframe thead th {\n        text-align: right;\n    }\n</style>\n<table border=\"1\" class=\"dataframe\">\n  <thead>\n    <tr style=\"text-align: right;\">\n      <th></th>\n      <th>ARSON</th>\n      <th>ASSAULT</th>\n      <th>BAD CHECKS</th>\n      <th>BRIBERY</th>\n      <th>BURGLARY</th>\n      <th>DISORDERLY CONDUCT</th>\n      <th>DRIVING UNDER THE INFLUENCE</th>\n      <th>DRUG/NARCOTIC</th>\n      <th>DRUNKENNESS</th>\n      <th>EMBEZZLEMENT</th>\n      <th>...</th>\n      <th>SEX OFFENSES NON FORCIBLE</th>\n      <th>STOLEN PROPERTY</th>\n      <th>SUICIDE</th>\n      <th>SUSPICIOUS OCC</th>\n      <th>TREA</th>\n      <th>TRESPASS</th>\n      <th>VANDALISM</th>\n      <th>VEHICLE THEFT</th>\n      <th>WARRANTS</th>\n      <th>WEAPON LAWS</th>\n    </tr>\n  </thead>\n  <tbody>\n    <tr>\n      <th>0</th>\n      <td>0</td>\n      <td>0</td>\n      <td>0</td>\n      <td>0</td>\n      <td>0</td>\n      <td>0</td>\n      <td>0</td>\n      <td>0</td>\n      <td>0</td>\n      <td>0</td>\n      <td>...</td>\n      <td>0</td>\n      <td>0</td>\n      <td>0</td>\n      <td>0</td>\n      <td>0</td>\n      <td>0</td>\n      <td>0</td>\n      <td>0</td>\n      <td>0</td>\n      <td>0</td>\n    </tr>\n    <tr>\n      <th>1</th>\n      <td>0</td>\n      <td>0</td>\n      <td>0</td>\n      <td>0</td>\n      <td>0</td>\n      <td>0</td>\n      <td>0</td>\n      <td>0</td>\n      <td>0</td>\n      <td>0</td>\n      <td>...</td>\n      <td>0</td>\n      <td>0</td>\n      <td>0</td>\n      <td>0</td>\n      <td>0</td>\n      <td>0</td>\n      <td>0</td>\n      <td>0</td>\n      <td>0</td>\n      <td>0</td>\n    </tr>\n    <tr>\n      <th>2</th>\n      <td>0</td>\n      <td>0</td>\n      <td>0</td>\n      <td>0</td>\n      <td>0</td>\n      <td>0</td>\n      <td>0</td>\n      <td>0</td>\n      <td>0</td>\n      <td>0</td>\n      <td>...</td>\n      <td>0</td>\n      <td>0</td>\n      <td>0</td>\n      <td>0</td>\n      <td>0</td>\n      <td>0</td>\n      <td>0</td>\n      <td>0</td>\n      <td>0</td>\n      <td>0</td>\n    </tr>\n    <tr>\n      <th>3</th>\n      <td>0</td>\n      <td>0</td>\n      <td>0</td>\n      <td>0</td>\n      <td>0</td>\n      <td>0</td>\n      <td>0</td>\n      <td>0</td>\n      <td>0</td>\n      <td>0</td>\n      <td>...</td>\n      <td>0</td>\n      <td>0</td>\n      <td>0</td>\n      <td>0</td>\n      <td>0</td>\n      <td>0</td>\n      <td>0</td>\n      <td>0</td>\n      <td>0</td>\n      <td>0</td>\n    </tr>\n    <tr>\n      <th>4</th>\n      <td>0</td>\n      <td>0</td>\n      <td>0</td>\n      <td>0</td>\n      <td>0</td>\n      <td>0</td>\n      <td>0</td>\n      <td>0</td>\n      <td>0</td>\n      <td>0</td>\n      <td>...</td>\n      <td>0</td>\n      <td>0</td>\n      <td>0</td>\n      <td>0</td>\n      <td>0</td>\n      <td>0</td>\n      <td>0</td>\n      <td>0</td>\n      <td>0</td>\n      <td>0</td>\n    </tr>\n  </tbody>\n</table>\n<p>5 rows × 39 columns</p>\n</div>"
     },
     "metadata": {},
     "execution_count": 20
    }
   ],
   "source": [
    "submission = pd.DataFrame()\n",
    "for i, entry in enumerate(col_names):\n",
    "    submission[entry] = predicted[:,i]\n",
    "submission.to_csv('submission_original.csv', index=False)\n",
    "submission.head()"
   ]
  }
 ],
 "metadata": {
  "kernelspec": {
   "name": "python3",
   "display_name": "Python 3",
   "language": "python"
  },
  "language_info": {
   "codemirror_mode": {
    "name": "ipython",
    "version": 3
   },
   "file_extension": ".py",
   "mimetype": "text/x-python",
   "name": "python",
   "nbconvert_exporter": "python",
   "pygments_lexer": "ipython3",
   "version": "3.7.10-final"
  },
  "papermill": {
   "default_parameters": {},
   "duration": 547.167429,
   "end_time": "2021-02-26T06:51:02.778416",
   "environment_variables": {},
   "exception": null,
   "input_path": "__notebook__.ipynb",
   "output_path": "__notebook__.ipynb",
   "parameters": {},
   "start_time": "2021-02-26T06:41:55.610987",
   "version": "2.2.2"
  }
 },
 "nbformat": 4,
 "nbformat_minor": 4
}