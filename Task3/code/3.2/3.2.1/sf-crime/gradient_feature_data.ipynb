{
 "cells": [
  {
   "source": [
    "# 3.2.1 Feature Engineering"
   ],
   "cell_type": "markdown",
   "metadata": {}
  },
  {
   "cell_type": "code",
   "execution_count": 1,
   "metadata": {
    "_cell_guid": "b1076dfc-b9ad-4769-8c92-a6c4dae69d19",
    "_uuid": "8f2839f25d086af736a60e9eeb907d3b93b6e0e5",
    "execution": {
     "iopub.execute_input": "2021-02-26T06:42:01.740147Z",
     "iopub.status.busy": "2021-02-26T06:42:01.739245Z",
     "iopub.status.idle": "2021-02-26T06:42:09.747716Z",
     "shell.execute_reply": "2021-02-26T06:42:09.746995Z"
    },
    "papermill": {
     "duration": 8.033804,
     "end_time": "2021-02-26T06:42:09.747954",
     "exception": false,
     "start_time": "2021-02-26T06:42:01.714150",
     "status": "completed"
    },
    "tags": []
   },
   "outputs": [],
   "source": [
    "import numpy as np\n",
    "import pandas as pd\n",
    "import matplotlib.pyplot as plt\n",
    "from tensorflow import keras\n",
    "from keras.layers import Dense,Dropout\n",
    "from keras.models import Sequential\n",
    "from sklearn.impute import SimpleImputer\n",
    "from sklearn.model_selection import train_test_split\n",
    "from nni.algorithms.feature_engineering.gradient_selector import FeatureGradientSelector"
   ]
  },
  {
   "source": [
    "## 加载数据"
   ],
   "cell_type": "markdown",
   "metadata": {
    "papermill": {
     "duration": 0.015511,
     "end_time": "2021-02-26T06:42:09.780288",
     "exception": false,
     "start_time": "2021-02-26T06:42:09.764777",
     "status": "completed"
    },
    "tags": []
   }
  },
  {
   "cell_type": "code",
   "execution_count": 2,
   "metadata": {
    "execution": {
     "iopub.execute_input": "2021-02-26T06:42:09.818378Z",
     "iopub.status.busy": "2021-02-26T06:42:09.817547Z",
     "iopub.status.idle": "2021-02-26T06:42:13.104858Z",
     "shell.execute_reply": "2021-02-26T06:42:13.104256Z"
    },
    "papermill": {
     "duration": 3.30831,
     "end_time": "2021-02-26T06:42:13.105030",
     "exception": false,
     "start_time": "2021-02-26T06:42:09.796720",
     "status": "completed"
    },
    "tags": []
   },
   "outputs": [
    {
     "output_type": "execute_result",
     "data": {
      "text/plain": [
       "                 Dates        Category                      Descript  \\\n",
       "0  2015-05-13 23:53:00        WARRANTS                WARRANT ARREST   \n",
       "1  2015-05-13 23:53:00  OTHER OFFENSES      TRAFFIC VIOLATION ARREST   \n",
       "2  2015-05-13 23:33:00  OTHER OFFENSES      TRAFFIC VIOLATION ARREST   \n",
       "3  2015-05-13 23:30:00   LARCENY/THEFT  GRAND THEFT FROM LOCKED AUTO   \n",
       "4  2015-05-13 23:30:00   LARCENY/THEFT  GRAND THEFT FROM LOCKED AUTO   \n",
       "\n",
       "   DayOfWeek PdDistrict      Resolution                    Address  \\\n",
       "0  Wednesday   NORTHERN  ARREST, BOOKED         OAK ST / LAGUNA ST   \n",
       "1  Wednesday   NORTHERN  ARREST, BOOKED         OAK ST / LAGUNA ST   \n",
       "2  Wednesday   NORTHERN  ARREST, BOOKED  VANNESS AV / GREENWICH ST   \n",
       "3  Wednesday   NORTHERN            NONE   1500 Block of LOMBARD ST   \n",
       "4  Wednesday       PARK            NONE  100 Block of BRODERICK ST   \n",
       "\n",
       "            X          Y  \n",
       "0 -122.425892  37.774599  \n",
       "1 -122.425892  37.774599  \n",
       "2 -122.424363  37.800414  \n",
       "3 -122.426995  37.800873  \n",
       "4 -122.438738  37.771541  "
      ],
      "text/html": "<div>\n<style scoped>\n    .dataframe tbody tr th:only-of-type {\n        vertical-align: middle;\n    }\n\n    .dataframe tbody tr th {\n        vertical-align: top;\n    }\n\n    .dataframe thead th {\n        text-align: right;\n    }\n</style>\n<table border=\"1\" class=\"dataframe\">\n  <thead>\n    <tr style=\"text-align: right;\">\n      <th></th>\n      <th>Dates</th>\n      <th>Category</th>\n      <th>Descript</th>\n      <th>DayOfWeek</th>\n      <th>PdDistrict</th>\n      <th>Resolution</th>\n      <th>Address</th>\n      <th>X</th>\n      <th>Y</th>\n    </tr>\n  </thead>\n  <tbody>\n    <tr>\n      <th>0</th>\n      <td>2015-05-13 23:53:00</td>\n      <td>WARRANTS</td>\n      <td>WARRANT ARREST</td>\n      <td>Wednesday</td>\n      <td>NORTHERN</td>\n      <td>ARREST, BOOKED</td>\n      <td>OAK ST / LAGUNA ST</td>\n      <td>-122.425892</td>\n      <td>37.774599</td>\n    </tr>\n    <tr>\n      <th>1</th>\n      <td>2015-05-13 23:53:00</td>\n      <td>OTHER OFFENSES</td>\n      <td>TRAFFIC VIOLATION ARREST</td>\n      <td>Wednesday</td>\n      <td>NORTHERN</td>\n      <td>ARREST, BOOKED</td>\n      <td>OAK ST / LAGUNA ST</td>\n      <td>-122.425892</td>\n      <td>37.774599</td>\n    </tr>\n    <tr>\n      <th>2</th>\n      <td>2015-05-13 23:33:00</td>\n      <td>OTHER OFFENSES</td>\n      <td>TRAFFIC VIOLATION ARREST</td>\n      <td>Wednesday</td>\n      <td>NORTHERN</td>\n      <td>ARREST, BOOKED</td>\n      <td>VANNESS AV / GREENWICH ST</td>\n      <td>-122.424363</td>\n      <td>37.800414</td>\n    </tr>\n    <tr>\n      <th>3</th>\n      <td>2015-05-13 23:30:00</td>\n      <td>LARCENY/THEFT</td>\n      <td>GRAND THEFT FROM LOCKED AUTO</td>\n      <td>Wednesday</td>\n      <td>NORTHERN</td>\n      <td>NONE</td>\n      <td>1500 Block of LOMBARD ST</td>\n      <td>-122.426995</td>\n      <td>37.800873</td>\n    </tr>\n    <tr>\n      <th>4</th>\n      <td>2015-05-13 23:30:00</td>\n      <td>LARCENY/THEFT</td>\n      <td>GRAND THEFT FROM LOCKED AUTO</td>\n      <td>Wednesday</td>\n      <td>PARK</td>\n      <td>NONE</td>\n      <td>100 Block of BRODERICK ST</td>\n      <td>-122.438738</td>\n      <td>37.771541</td>\n    </tr>\n  </tbody>\n</table>\n</div>"
     },
     "metadata": {},
     "execution_count": 2
    }
   ],
   "source": [
    "train_data=pd.read_csv('train.csv.zip')\n",
    "train_data.head()"
   ]
  },
  {
   "cell_type": "code",
   "execution_count": 3,
   "metadata": {
    "execution": {
     "iopub.execute_input": "2021-02-26T06:42:13.144062Z",
     "iopub.status.busy": "2021-02-26T06:42:13.143243Z",
     "iopub.status.idle": "2021-02-26T06:42:15.488693Z",
     "shell.execute_reply": "2021-02-26T06:42:15.488134Z"
    },
    "papermill": {
     "duration": 2.367403,
     "end_time": "2021-02-26T06:42:15.488859",
     "exception": false,
     "start_time": "2021-02-26T06:42:13.121456",
     "status": "completed"
    },
    "tags": []
   },
   "outputs": [
    {
     "output_type": "execute_result",
     "data": {
      "text/plain": [
       "   Id                Dates DayOfWeek PdDistrict                   Address  \\\n",
       "0   0  2015-05-10 23:59:00    Sunday    BAYVIEW   2000 Block of THOMAS AV   \n",
       "1   1  2015-05-10 23:51:00    Sunday    BAYVIEW        3RD ST / REVERE AV   \n",
       "2   2  2015-05-10 23:50:00    Sunday   NORTHERN    2000 Block of GOUGH ST   \n",
       "3   3  2015-05-10 23:45:00    Sunday  INGLESIDE  4700 Block of MISSION ST   \n",
       "4   4  2015-05-10 23:45:00    Sunday  INGLESIDE  4700 Block of MISSION ST   \n",
       "\n",
       "            X          Y  \n",
       "0 -122.399588  37.735051  \n",
       "1 -122.391523  37.732432  \n",
       "2 -122.426002  37.792212  \n",
       "3 -122.437394  37.721412  \n",
       "4 -122.437394  37.721412  "
      ],
      "text/html": "<div>\n<style scoped>\n    .dataframe tbody tr th:only-of-type {\n        vertical-align: middle;\n    }\n\n    .dataframe tbody tr th {\n        vertical-align: top;\n    }\n\n    .dataframe thead th {\n        text-align: right;\n    }\n</style>\n<table border=\"1\" class=\"dataframe\">\n  <thead>\n    <tr style=\"text-align: right;\">\n      <th></th>\n      <th>Id</th>\n      <th>Dates</th>\n      <th>DayOfWeek</th>\n      <th>PdDistrict</th>\n      <th>Address</th>\n      <th>X</th>\n      <th>Y</th>\n    </tr>\n  </thead>\n  <tbody>\n    <tr>\n      <th>0</th>\n      <td>0</td>\n      <td>2015-05-10 23:59:00</td>\n      <td>Sunday</td>\n      <td>BAYVIEW</td>\n      <td>2000 Block of THOMAS AV</td>\n      <td>-122.399588</td>\n      <td>37.735051</td>\n    </tr>\n    <tr>\n      <th>1</th>\n      <td>1</td>\n      <td>2015-05-10 23:51:00</td>\n      <td>Sunday</td>\n      <td>BAYVIEW</td>\n      <td>3RD ST / REVERE AV</td>\n      <td>-122.391523</td>\n      <td>37.732432</td>\n    </tr>\n    <tr>\n      <th>2</th>\n      <td>2</td>\n      <td>2015-05-10 23:50:00</td>\n      <td>Sunday</td>\n      <td>NORTHERN</td>\n      <td>2000 Block of GOUGH ST</td>\n      <td>-122.426002</td>\n      <td>37.792212</td>\n    </tr>\n    <tr>\n      <th>3</th>\n      <td>3</td>\n      <td>2015-05-10 23:45:00</td>\n      <td>Sunday</td>\n      <td>INGLESIDE</td>\n      <td>4700 Block of MISSION ST</td>\n      <td>-122.437394</td>\n      <td>37.721412</td>\n    </tr>\n    <tr>\n      <th>4</th>\n      <td>4</td>\n      <td>2015-05-10 23:45:00</td>\n      <td>Sunday</td>\n      <td>INGLESIDE</td>\n      <td>4700 Block of MISSION ST</td>\n      <td>-122.437394</td>\n      <td>37.721412</td>\n    </tr>\n  </tbody>\n</table>\n</div>"
     },
     "metadata": {},
     "execution_count": 3
    }
   ],
   "source": [
    "test_data=pd.read_csv('test.csv.zip')\n",
    "test_data.head()"
   ]
  },
  {
   "source": [
    "## 清洗数据\n",
    "### 填补无效数据"
   ],
   "cell_type": "markdown",
   "metadata": {
    "papermill": {
     "duration": 0.017977,
     "end_time": "2021-02-26T06:42:15.523940",
     "exception": false,
     "start_time": "2021-02-26T06:42:15.505963",
     "status": "completed"
    },
    "tags": []
   }
  },
  {
   "cell_type": "code",
   "execution_count": 4,
   "metadata": {},
   "outputs": [],
   "source": [
    "train_data.drop_duplicates(inplace=True)\n",
    "train_data.replace({'X': -120.5, 'Y': 90.0}, np.NaN, inplace=True)\n",
    "test_data.replace({'X': -120.5, 'Y': 90.0}, np.NaN, inplace=True)\n",
    "\n",
    "imp = SimpleImputer(strategy='mean')\n",
    "\n",
    "for district in train_data['PdDistrict'].unique():\n",
    "    train_data.loc[train_data['PdDistrict'] == district, ['X', 'Y']] = imp.fit_transform(\n",
    "        train_data.loc[train_data['PdDistrict'] == district, ['X', 'Y']])\n",
    "    test_data.loc[test_data['PdDistrict'] == district, ['X', 'Y']] = imp.transform(\n",
    "        test_data.loc[test_data['PdDistrict'] == district, ['X', 'Y']])"
   ]
  },
  {
   "source": [
    "### 删除无关特征"
   ],
   "cell_type": "markdown",
   "metadata": {}
  },
  {
   "cell_type": "code",
   "execution_count": 5,
   "metadata": {},
   "outputs": [],
   "source": [
    "train_data.drop(['Descript','Resolution'],inplace=True,axis=1)\n",
    "train_data.drop('Address',inplace=True,axis=1)\n",
    "test_data.drop('Address',inplace=True,axis=1)\n",
    "test_data.drop('Id',inplace=True,axis=1)"
   ]
  },
  {
   "source": [
    "### 对 PdDistrict 特征独热编码"
   ],
   "cell_type": "markdown",
   "metadata": {
    "papermill": {
     "duration": 0.017699,
     "end_time": "2021-02-26T06:42:15.969107",
     "exception": false,
     "start_time": "2021-02-26T06:42:15.951408",
     "status": "completed"
    },
    "tags": []
   }
  },
  {
   "cell_type": "code",
   "execution_count": 6,
   "metadata": {
    "execution": {
     "iopub.execute_input": "2021-02-26T06:42:16.019161Z",
     "iopub.status.busy": "2021-02-26T06:42:16.018191Z",
     "iopub.status.idle": "2021-02-26T06:42:17.364521Z",
     "shell.execute_reply": "2021-02-26T06:42:17.363788Z"
    },
    "papermill": {
     "duration": 1.372999,
     "end_time": "2021-02-26T06:42:17.364672",
     "exception": false,
     "start_time": "2021-02-26T06:42:15.991673",
     "status": "completed"
    },
    "tags": []
   },
   "outputs": [],
   "source": [
    "dummies_train=pd.get_dummies(train_data['PdDistrict'])\n",
    "dummies_test=pd.get_dummies(test_data['PdDistrict'])\n",
    "\n",
    "train_data=pd.concat([train_data,dummies_train],axis=1)\n",
    "train_data.drop('PdDistrict',inplace=True,axis=1)\n",
    "\n",
    "test_data=pd.concat([test_data,dummies_test],axis=1)\n",
    "test_data.drop('PdDistrict',inplace=True,axis=1)"
   ]
  },
  {
   "source": [
    "### 替换星期"
   ],
   "cell_type": "markdown",
   "metadata": {}
  },
  {
   "cell_type": "code",
   "execution_count": 7,
   "metadata": {},
   "outputs": [],
   "source": [
    "train_data['DayOfWeek'].replace(to_replace=['Monday','Tuesday','Wednesday','Thursday','Friday','Saturday','Sunday'],value=[i for i in range(0,7)],inplace=True)\n",
    "test_data['DayOfWeek'].replace(to_replace=['Monday','Tuesday','Wednesday','Thursday','Friday','Saturday','Sunday'],value=[i for i in range(0,7)],inplace=True)"
   ]
  },
  {
   "source": [
    "### 替换日期与时分"
   ],
   "cell_type": "markdown",
   "metadata": {
    "papermill": {
     "duration": 0.019346,
     "end_time": "2021-02-26T06:42:17.526440",
     "exception": false,
     "start_time": "2021-02-26T06:42:17.507094",
     "status": "completed"
    },
    "tags": []
   }
  },
  {
   "cell_type": "code",
   "execution_count": 8,
   "metadata": {
    "execution": {
     "iopub.execute_input": "2021-02-26T06:42:17.642369Z",
     "iopub.status.busy": "2021-02-26T06:42:17.636940Z",
     "iopub.status.idle": "2021-02-26T06:42:19.454559Z",
     "shell.execute_reply": "2021-02-26T06:42:19.454034Z"
    },
    "papermill": {
     "duration": 1.907931,
     "end_time": "2021-02-26T06:42:19.454715",
     "exception": false,
     "start_time": "2021-02-26T06:42:17.546784",
     "status": "completed"
    },
    "tags": []
   },
   "outputs": [],
   "source": [
    "ls1=list(train_data['Dates'])\n",
    "for i in range(len(ls1)):\n",
    "    ls1[i]=ls1[i][:4:]\n",
    "train_data['Year']=ls1 \n",
    "\n",
    "ls1=list(train_data['Dates'])\n",
    "for i in range(len(ls1)):\n",
    "    ls1[i]=ls1[i][5:7:]\n",
    "train_data['Month']=ls1 \n",
    "\n",
    "ls1=list(train_data['Dates'])\n",
    "for i in range(len(ls1)):\n",
    "    ls1[i]=ls1[i][8:10:]\n",
    "train_data['Day']=ls1 \n",
    "\n",
    "ls1=list(train_data['Dates'])\n",
    "for i in range(len(ls1)):\n",
    "    ls1[i]=ls1[i][11:-6:]\n",
    "train_data['Hours']=ls1\n",
    "\n",
    "ls1=list(train_data['Dates'])\n",
    "for i in range(len(ls1)):\n",
    "    ls1[i]=ls1[i][-5:-3:]\n",
    "train_data['Minutes']=ls1\n",
    "\n",
    "train_data.drop('Dates',axis=1,inplace=True)"
   ]
  },
  {
   "cell_type": "code",
   "execution_count": 9,
   "metadata": {
    "execution": {
     "iopub.execute_input": "2021-02-26T06:42:19.582409Z",
     "iopub.status.busy": "2021-02-26T06:42:19.571822Z",
     "iopub.status.idle": "2021-02-26T06:42:21.357103Z",
     "shell.execute_reply": "2021-02-26T06:42:21.356423Z"
    },
    "papermill": {
     "duration": 1.882049,
     "end_time": "2021-02-26T06:42:21.357258",
     "exception": false,
     "start_time": "2021-02-26T06:42:19.475209",
     "status": "completed"
    },
    "tags": []
   },
   "outputs": [],
   "source": [
    "ls1=list(test_data['Dates'])\n",
    "for i in range(len(ls1)):\n",
    "    ls1[i]=ls1[i][:4:]\n",
    "test_data['Year']=ls1 \n",
    "\n",
    "ls1=list(test_data['Dates'])\n",
    "for i in range(len(ls1)):\n",
    "    ls1[i]=ls1[i][5:7:]\n",
    "test_data['Month']=ls1 \n",
    "\n",
    "ls1=list(test_data['Dates'])\n",
    "for i in range(len(ls1)):\n",
    "    ls1[i]=ls1[i][8:10:]\n",
    "test_data['Day']=ls1 \n",
    "\n",
    "ls1=list(test_data['Dates'])\n",
    "for i in range(len(ls1)):\n",
    "    ls1[i]=ls1[i][11:-6:]\n",
    "test_data['Hours']=ls1\n",
    "\n",
    "ls1=list(test_data['Dates'])\n",
    "for i in range(len(ls1)):\n",
    "    ls1[i]=ls1[i][-5:-3:]\n",
    "test_data['Minutes']=ls1\n",
    "\n",
    "test_data.drop('Dates',axis=1,inplace=True)"
   ]
  },
  {
   "source": [
    "### 对分类结果进行独热编码"
   ],
   "cell_type": "markdown",
   "metadata": {}
  },
  {
   "cell_type": "code",
   "execution_count": 10,
   "metadata": {
    "execution": {
     "iopub.execute_input": "2021-02-26T06:42:21.686647Z",
     "iopub.status.busy": "2021-02-26T06:42:21.686029Z",
     "iopub.status.idle": "2021-02-26T06:42:21.765186Z",
     "shell.execute_reply": "2021-02-26T06:42:21.764600Z"
    },
    "papermill": {
     "duration": 0.122777,
     "end_time": "2021-02-26T06:42:21.765336",
     "exception": false,
     "start_time": "2021-02-26T06:42:21.642559",
     "status": "completed"
    },
    "tags": []
   },
   "outputs": [
    {
     "output_type": "execute_result",
     "data": {
      "text/plain": [
       "   ARSON  ASSAULT  BAD CHECKS  BRIBERY  BURGLARY  DISORDERLY CONDUCT  \\\n",
       "0      0        0           0        0         0                   0   \n",
       "1      0        0           0        0         0                   0   \n",
       "2      0        0           0        0         0                   0   \n",
       "3      0        0           0        0         0                   0   \n",
       "4      0        0           0        0         0                   0   \n",
       "\n",
       "   DRIVING UNDER THE INFLUENCE  DRUG/NARCOTIC  DRUNKENNESS  EMBEZZLEMENT  ...  \\\n",
       "0                            0              0            0             0  ...   \n",
       "1                            0              0            0             0  ...   \n",
       "2                            0              0            0             0  ...   \n",
       "3                            0              0            0             0  ...   \n",
       "4                            0              0            0             0  ...   \n",
       "\n",
       "   SEX OFFENSES NON FORCIBLE  STOLEN PROPERTY  SUICIDE  SUSPICIOUS OCC  TREA  \\\n",
       "0                          0                0        0               0     0   \n",
       "1                          0                0        0               0     0   \n",
       "2                          0                0        0               0     0   \n",
       "3                          0                0        0               0     0   \n",
       "4                          0                0        0               0     0   \n",
       "\n",
       "   TRESPASS  VANDALISM  VEHICLE THEFT  WARRANTS  WEAPON LAWS  \n",
       "0         0          0              0         1            0  \n",
       "1         0          0              0         0            0  \n",
       "2         0          0              0         0            0  \n",
       "3         0          0              0         0            0  \n",
       "4         0          0              0         0            0  \n",
       "\n",
       "[5 rows x 39 columns]"
      ],
      "text/html": "<div>\n<style scoped>\n    .dataframe tbody tr th:only-of-type {\n        vertical-align: middle;\n    }\n\n    .dataframe tbody tr th {\n        vertical-align: top;\n    }\n\n    .dataframe thead th {\n        text-align: right;\n    }\n</style>\n<table border=\"1\" class=\"dataframe\">\n  <thead>\n    <tr style=\"text-align: right;\">\n      <th></th>\n      <th>ARSON</th>\n      <th>ASSAULT</th>\n      <th>BAD CHECKS</th>\n      <th>BRIBERY</th>\n      <th>BURGLARY</th>\n      <th>DISORDERLY CONDUCT</th>\n      <th>DRIVING UNDER THE INFLUENCE</th>\n      <th>DRUG/NARCOTIC</th>\n      <th>DRUNKENNESS</th>\n      <th>EMBEZZLEMENT</th>\n      <th>...</th>\n      <th>SEX OFFENSES NON FORCIBLE</th>\n      <th>STOLEN PROPERTY</th>\n      <th>SUICIDE</th>\n      <th>SUSPICIOUS OCC</th>\n      <th>TREA</th>\n      <th>TRESPASS</th>\n      <th>VANDALISM</th>\n      <th>VEHICLE THEFT</th>\n      <th>WARRANTS</th>\n      <th>WEAPON LAWS</th>\n    </tr>\n  </thead>\n  <tbody>\n    <tr>\n      <th>0</th>\n      <td>0</td>\n      <td>0</td>\n      <td>0</td>\n      <td>0</td>\n      <td>0</td>\n      <td>0</td>\n      <td>0</td>\n      <td>0</td>\n      <td>0</td>\n      <td>0</td>\n      <td>...</td>\n      <td>0</td>\n      <td>0</td>\n      <td>0</td>\n      <td>0</td>\n      <td>0</td>\n      <td>0</td>\n      <td>0</td>\n      <td>0</td>\n      <td>1</td>\n      <td>0</td>\n    </tr>\n    <tr>\n      <th>1</th>\n      <td>0</td>\n      <td>0</td>\n      <td>0</td>\n      <td>0</td>\n      <td>0</td>\n      <td>0</td>\n      <td>0</td>\n      <td>0</td>\n      <td>0</td>\n      <td>0</td>\n      <td>...</td>\n      <td>0</td>\n      <td>0</td>\n      <td>0</td>\n      <td>0</td>\n      <td>0</td>\n      <td>0</td>\n      <td>0</td>\n      <td>0</td>\n      <td>0</td>\n      <td>0</td>\n    </tr>\n    <tr>\n      <th>2</th>\n      <td>0</td>\n      <td>0</td>\n      <td>0</td>\n      <td>0</td>\n      <td>0</td>\n      <td>0</td>\n      <td>0</td>\n      <td>0</td>\n      <td>0</td>\n      <td>0</td>\n      <td>...</td>\n      <td>0</td>\n      <td>0</td>\n      <td>0</td>\n      <td>0</td>\n      <td>0</td>\n      <td>0</td>\n      <td>0</td>\n      <td>0</td>\n      <td>0</td>\n      <td>0</td>\n    </tr>\n    <tr>\n      <th>3</th>\n      <td>0</td>\n      <td>0</td>\n      <td>0</td>\n      <td>0</td>\n      <td>0</td>\n      <td>0</td>\n      <td>0</td>\n      <td>0</td>\n      <td>0</td>\n      <td>0</td>\n      <td>...</td>\n      <td>0</td>\n      <td>0</td>\n      <td>0</td>\n      <td>0</td>\n      <td>0</td>\n      <td>0</td>\n      <td>0</td>\n      <td>0</td>\n      <td>0</td>\n      <td>0</td>\n    </tr>\n    <tr>\n      <th>4</th>\n      <td>0</td>\n      <td>0</td>\n      <td>0</td>\n      <td>0</td>\n      <td>0</td>\n      <td>0</td>\n      <td>0</td>\n      <td>0</td>\n      <td>0</td>\n      <td>0</td>\n      <td>...</td>\n      <td>0</td>\n      <td>0</td>\n      <td>0</td>\n      <td>0</td>\n      <td>0</td>\n      <td>0</td>\n      <td>0</td>\n      <td>0</td>\n      <td>0</td>\n      <td>0</td>\n    </tr>\n  </tbody>\n</table>\n<p>5 rows × 39 columns</p>\n</div>"
     },
     "metadata": {},
     "execution_count": 10
    }
   ],
   "source": [
    "y_origin=pd.get_dummies(train_data['Category'])\n",
    "train_data.drop('Category',inplace=True,axis=1)\n",
    "y_origin.head()"
   ]
  },
  {
   "cell_type": "code",
   "execution_count": 11,
   "metadata": {},
   "outputs": [
    {
     "output_type": "execute_result",
     "data": {
      "text/plain": [
       "   DayOfWeek           X          Y  BAYVIEW  CENTRAL  INGLESIDE  MISSION  \\\n",
       "0          2 -122.425892  37.774599        0        0          0        0   \n",
       "1          2 -122.425892  37.774599        0        0          0        0   \n",
       "2          2 -122.424363  37.800414        0        0          0        0   \n",
       "3          2 -122.426995  37.800873        0        0          0        0   \n",
       "4          2 -122.438738  37.771541        0        0          0        0   \n",
       "\n",
       "   NORTHERN  PARK  RICHMOND  SOUTHERN  TARAVAL  TENDERLOIN  Year Month Day  \\\n",
       "0         1     0         0         0        0           0  2015    05  13   \n",
       "1         1     0         0         0        0           0  2015    05  13   \n",
       "2         1     0         0         0        0           0  2015    05  13   \n",
       "3         1     0         0         0        0           0  2015    05  13   \n",
       "4         0     1         0         0        0           0  2015    05  13   \n",
       "\n",
       "  Hours Minutes  \n",
       "0    23      53  \n",
       "1    23      53  \n",
       "2    23      33  \n",
       "3    23      30  \n",
       "4    23      30  "
      ],
      "text/html": "<div>\n<style scoped>\n    .dataframe tbody tr th:only-of-type {\n        vertical-align: middle;\n    }\n\n    .dataframe tbody tr th {\n        vertical-align: top;\n    }\n\n    .dataframe thead th {\n        text-align: right;\n    }\n</style>\n<table border=\"1\" class=\"dataframe\">\n  <thead>\n    <tr style=\"text-align: right;\">\n      <th></th>\n      <th>DayOfWeek</th>\n      <th>X</th>\n      <th>Y</th>\n      <th>BAYVIEW</th>\n      <th>CENTRAL</th>\n      <th>INGLESIDE</th>\n      <th>MISSION</th>\n      <th>NORTHERN</th>\n      <th>PARK</th>\n      <th>RICHMOND</th>\n      <th>SOUTHERN</th>\n      <th>TARAVAL</th>\n      <th>TENDERLOIN</th>\n      <th>Year</th>\n      <th>Month</th>\n      <th>Day</th>\n      <th>Hours</th>\n      <th>Minutes</th>\n    </tr>\n  </thead>\n  <tbody>\n    <tr>\n      <th>0</th>\n      <td>2</td>\n      <td>-122.425892</td>\n      <td>37.774599</td>\n      <td>0</td>\n      <td>0</td>\n      <td>0</td>\n      <td>0</td>\n      <td>1</td>\n      <td>0</td>\n      <td>0</td>\n      <td>0</td>\n      <td>0</td>\n      <td>0</td>\n      <td>2015</td>\n      <td>05</td>\n      <td>13</td>\n      <td>23</td>\n      <td>53</td>\n    </tr>\n    <tr>\n      <th>1</th>\n      <td>2</td>\n      <td>-122.425892</td>\n      <td>37.774599</td>\n      <td>0</td>\n      <td>0</td>\n      <td>0</td>\n      <td>0</td>\n      <td>1</td>\n      <td>0</td>\n      <td>0</td>\n      <td>0</td>\n      <td>0</td>\n      <td>0</td>\n      <td>2015</td>\n      <td>05</td>\n      <td>13</td>\n      <td>23</td>\n      <td>53</td>\n    </tr>\n    <tr>\n      <th>2</th>\n      <td>2</td>\n      <td>-122.424363</td>\n      <td>37.800414</td>\n      <td>0</td>\n      <td>0</td>\n      <td>0</td>\n      <td>0</td>\n      <td>1</td>\n      <td>0</td>\n      <td>0</td>\n      <td>0</td>\n      <td>0</td>\n      <td>0</td>\n      <td>2015</td>\n      <td>05</td>\n      <td>13</td>\n      <td>23</td>\n      <td>33</td>\n    </tr>\n    <tr>\n      <th>3</th>\n      <td>2</td>\n      <td>-122.426995</td>\n      <td>37.800873</td>\n      <td>0</td>\n      <td>0</td>\n      <td>0</td>\n      <td>0</td>\n      <td>1</td>\n      <td>0</td>\n      <td>0</td>\n      <td>0</td>\n      <td>0</td>\n      <td>0</td>\n      <td>2015</td>\n      <td>05</td>\n      <td>13</td>\n      <td>23</td>\n      <td>30</td>\n    </tr>\n    <tr>\n      <th>4</th>\n      <td>2</td>\n      <td>-122.438738</td>\n      <td>37.771541</td>\n      <td>0</td>\n      <td>0</td>\n      <td>0</td>\n      <td>0</td>\n      <td>0</td>\n      <td>1</td>\n      <td>0</td>\n      <td>0</td>\n      <td>0</td>\n      <td>0</td>\n      <td>2015</td>\n      <td>05</td>\n      <td>13</td>\n      <td>23</td>\n      <td>30</td>\n    </tr>\n  </tbody>\n</table>\n</div>"
     },
     "metadata": {},
     "execution_count": 11
    }
   ],
   "source": [
    "train_data.head()"
   ]
  },
  {
   "cell_type": "code",
   "execution_count": 12,
   "metadata": {},
   "outputs": [
    {
     "output_type": "execute_result",
     "data": {
      "text/plain": [
       "   DayOfWeek           X          Y  BAYVIEW  CENTRAL  INGLESIDE  MISSION  \\\n",
       "0          6 -122.399588  37.735051        1        0          0        0   \n",
       "1          6 -122.391523  37.732432        1        0          0        0   \n",
       "2          6 -122.426002  37.792212        0        0          0        0   \n",
       "3          6 -122.437394  37.721412        0        0          1        0   \n",
       "4          6 -122.437394  37.721412        0        0          1        0   \n",
       "\n",
       "   NORTHERN  PARK  RICHMOND  SOUTHERN  TARAVAL  TENDERLOIN  Year Month Day  \\\n",
       "0         0     0         0         0        0           0  2015    05  10   \n",
       "1         0     0         0         0        0           0  2015    05  10   \n",
       "2         1     0         0         0        0           0  2015    05  10   \n",
       "3         0     0         0         0        0           0  2015    05  10   \n",
       "4         0     0         0         0        0           0  2015    05  10   \n",
       "\n",
       "  Hours Minutes  \n",
       "0    23      59  \n",
       "1    23      51  \n",
       "2    23      50  \n",
       "3    23      45  \n",
       "4    23      45  "
      ],
      "text/html": "<div>\n<style scoped>\n    .dataframe tbody tr th:only-of-type {\n        vertical-align: middle;\n    }\n\n    .dataframe tbody tr th {\n        vertical-align: top;\n    }\n\n    .dataframe thead th {\n        text-align: right;\n    }\n</style>\n<table border=\"1\" class=\"dataframe\">\n  <thead>\n    <tr style=\"text-align: right;\">\n      <th></th>\n      <th>DayOfWeek</th>\n      <th>X</th>\n      <th>Y</th>\n      <th>BAYVIEW</th>\n      <th>CENTRAL</th>\n      <th>INGLESIDE</th>\n      <th>MISSION</th>\n      <th>NORTHERN</th>\n      <th>PARK</th>\n      <th>RICHMOND</th>\n      <th>SOUTHERN</th>\n      <th>TARAVAL</th>\n      <th>TENDERLOIN</th>\n      <th>Year</th>\n      <th>Month</th>\n      <th>Day</th>\n      <th>Hours</th>\n      <th>Minutes</th>\n    </tr>\n  </thead>\n  <tbody>\n    <tr>\n      <th>0</th>\n      <td>6</td>\n      <td>-122.399588</td>\n      <td>37.735051</td>\n      <td>1</td>\n      <td>0</td>\n      <td>0</td>\n      <td>0</td>\n      <td>0</td>\n      <td>0</td>\n      <td>0</td>\n      <td>0</td>\n      <td>0</td>\n      <td>0</td>\n      <td>2015</td>\n      <td>05</td>\n      <td>10</td>\n      <td>23</td>\n      <td>59</td>\n    </tr>\n    <tr>\n      <th>1</th>\n      <td>6</td>\n      <td>-122.391523</td>\n      <td>37.732432</td>\n      <td>1</td>\n      <td>0</td>\n      <td>0</td>\n      <td>0</td>\n      <td>0</td>\n      <td>0</td>\n      <td>0</td>\n      <td>0</td>\n      <td>0</td>\n      <td>0</td>\n      <td>2015</td>\n      <td>05</td>\n      <td>10</td>\n      <td>23</td>\n      <td>51</td>\n    </tr>\n    <tr>\n      <th>2</th>\n      <td>6</td>\n      <td>-122.426002</td>\n      <td>37.792212</td>\n      <td>0</td>\n      <td>0</td>\n      <td>0</td>\n      <td>0</td>\n      <td>1</td>\n      <td>0</td>\n      <td>0</td>\n      <td>0</td>\n      <td>0</td>\n      <td>0</td>\n      <td>2015</td>\n      <td>05</td>\n      <td>10</td>\n      <td>23</td>\n      <td>50</td>\n    </tr>\n    <tr>\n      <th>3</th>\n      <td>6</td>\n      <td>-122.437394</td>\n      <td>37.721412</td>\n      <td>0</td>\n      <td>0</td>\n      <td>1</td>\n      <td>0</td>\n      <td>0</td>\n      <td>0</td>\n      <td>0</td>\n      <td>0</td>\n      <td>0</td>\n      <td>0</td>\n      <td>2015</td>\n      <td>05</td>\n      <td>10</td>\n      <td>23</td>\n      <td>45</td>\n    </tr>\n    <tr>\n      <th>4</th>\n      <td>6</td>\n      <td>-122.437394</td>\n      <td>37.721412</td>\n      <td>0</td>\n      <td>0</td>\n      <td>1</td>\n      <td>0</td>\n      <td>0</td>\n      <td>0</td>\n      <td>0</td>\n      <td>0</td>\n      <td>0</td>\n      <td>0</td>\n      <td>2015</td>\n      <td>05</td>\n      <td>10</td>\n      <td>23</td>\n      <td>45</td>\n    </tr>\n  </tbody>\n</table>\n</div>"
     },
     "metadata": {},
     "execution_count": 12
    }
   ],
   "source": [
    "test_data.head()"
   ]
  },
  {
   "source": [
    "## 特征工程\n",
    "### 对分类结果编码"
   ],
   "cell_type": "markdown",
   "metadata": {}
  },
  {
   "cell_type": "code",
   "execution_count": 13,
   "metadata": {},
   "outputs": [
    {
     "output_type": "execute_result",
     "data": {
      "text/plain": [
       "matrix([[38],\n",
       "        [22],\n",
       "        [22],\n",
       "        ...,\n",
       "        [17],\n",
       "        [36],\n",
       "        [13]])"
      ]
     },
     "metadata": {},
     "execution_count": 13
    }
   ],
   "source": [
    "X_origin=train_data.astype(float)\n",
    "y_select=y_origin.to_numpy()*np.matrix([range(1,len(y_origin.columns)+1)]).T\n",
    "y_select"
   ]
  },
  {
   "source": [
    "### 使用NNI进行特征工程"
   ],
   "cell_type": "markdown",
   "metadata": {
    "papermill": {
     "duration": 0.022213,
     "end_time": "2021-02-26T06:42:22.397629",
     "exception": false,
     "start_time": "2021-02-26T06:42:22.375416",
     "status": "completed"
    },
    "tags": []
   }
  },
  {
   "cell_type": "code",
   "execution_count": 14,
   "metadata": {
    "execution": {
     "iopub.execute_input": "2021-02-26T06:42:22.450276Z",
     "iopub.status.busy": "2021-02-26T06:42:22.449609Z",
     "iopub.status.idle": "2021-02-26T06:42:23.769758Z",
     "shell.execute_reply": "2021-02-26T06:42:23.768671Z"
    },
    "papermill": {
     "duration": 1.349995,
     "end_time": "2021-02-26T06:42:23.769953",
     "exception": false,
     "start_time": "2021-02-26T06:42:22.419958",
     "status": "completed"
    },
    "tags": []
   },
   "outputs": [
    {
     "output_type": "stream",
     "name": "stdout",
     "text": [
      "(788153, 18) (788153, 1)\n",
      "(87573, 18) (87573, 1)\n"
     ]
    }
   ],
   "source": [
    "X_train,X_test,y_train,y_test=train_test_split(X_origin.copy(),y_select,test_size=0.1,random_state=42)\n",
    "print(X_train.shape,y_train.shape)\n",
    "print(X_test.shape,y_test.shape)"
   ]
  },
  {
   "cell_type": "code",
   "execution_count": 15,
   "metadata": {},
   "outputs": [
    {
     "output_type": "execute_result",
     "data": {
      "text/plain": [
       "array([ 0,  1,  2,  3,  4,  5,  6,  7,  8,  9, 11, 14, 16, 17],\n",
       "      dtype=int64)"
      ]
     },
     "metadata": {},
     "execution_count": 15
    }
   ],
   "source": [
    "fgs = FeatureGradientSelector(n_features=14,classification=True,batch_size=731225)\n",
    "fgs.fit(X_train, y_train)\n",
    "res=fgs.get_selected_features()\n",
    "res"
   ]
  },
  {
   "source": [
    "### 最终训练集与分类"
   ],
   "cell_type": "markdown",
   "metadata": {}
  },
  {
   "cell_type": "code",
   "execution_count": 16,
   "metadata": {},
   "outputs": [
    {
     "output_type": "execute_result",
     "data": {
      "text/plain": [
       "   DayOfWeek           X          Y  BAYVIEW  CENTRAL  INGLESIDE  MISSION  \\\n",
       "0        2.0 -122.425892  37.774599      0.0      0.0        0.0      0.0   \n",
       "1        2.0 -122.425892  37.774599      0.0      0.0        0.0      0.0   \n",
       "2        2.0 -122.424363  37.800414      0.0      0.0        0.0      0.0   \n",
       "3        2.0 -122.426995  37.800873      0.0      0.0        0.0      0.0   \n",
       "4        2.0 -122.438738  37.771541      0.0      0.0        0.0      0.0   \n",
       "\n",
       "   NORTHERN  PARK  RICHMOND  TARAVAL  Month  Hours  Minutes  \n",
       "0       1.0   0.0       0.0      0.0    5.0   23.0     53.0  \n",
       "1       1.0   0.0       0.0      0.0    5.0   23.0     53.0  \n",
       "2       1.0   0.0       0.0      0.0    5.0   23.0     33.0  \n",
       "3       1.0   0.0       0.0      0.0    5.0   23.0     30.0  \n",
       "4       0.0   1.0       0.0      0.0    5.0   23.0     30.0  "
      ],
      "text/html": "<div>\n<style scoped>\n    .dataframe tbody tr th:only-of-type {\n        vertical-align: middle;\n    }\n\n    .dataframe tbody tr th {\n        vertical-align: top;\n    }\n\n    .dataframe thead th {\n        text-align: right;\n    }\n</style>\n<table border=\"1\" class=\"dataframe\">\n  <thead>\n    <tr style=\"text-align: right;\">\n      <th></th>\n      <th>DayOfWeek</th>\n      <th>X</th>\n      <th>Y</th>\n      <th>BAYVIEW</th>\n      <th>CENTRAL</th>\n      <th>INGLESIDE</th>\n      <th>MISSION</th>\n      <th>NORTHERN</th>\n      <th>PARK</th>\n      <th>RICHMOND</th>\n      <th>TARAVAL</th>\n      <th>Month</th>\n      <th>Hours</th>\n      <th>Minutes</th>\n    </tr>\n  </thead>\n  <tbody>\n    <tr>\n      <th>0</th>\n      <td>2.0</td>\n      <td>-122.425892</td>\n      <td>37.774599</td>\n      <td>0.0</td>\n      <td>0.0</td>\n      <td>0.0</td>\n      <td>0.0</td>\n      <td>1.0</td>\n      <td>0.0</td>\n      <td>0.0</td>\n      <td>0.0</td>\n      <td>5.0</td>\n      <td>23.0</td>\n      <td>53.0</td>\n    </tr>\n    <tr>\n      <th>1</th>\n      <td>2.0</td>\n      <td>-122.425892</td>\n      <td>37.774599</td>\n      <td>0.0</td>\n      <td>0.0</td>\n      <td>0.0</td>\n      <td>0.0</td>\n      <td>1.0</td>\n      <td>0.0</td>\n      <td>0.0</td>\n      <td>0.0</td>\n      <td>5.0</td>\n      <td>23.0</td>\n      <td>53.0</td>\n    </tr>\n    <tr>\n      <th>2</th>\n      <td>2.0</td>\n      <td>-122.424363</td>\n      <td>37.800414</td>\n      <td>0.0</td>\n      <td>0.0</td>\n      <td>0.0</td>\n      <td>0.0</td>\n      <td>1.0</td>\n      <td>0.0</td>\n      <td>0.0</td>\n      <td>0.0</td>\n      <td>5.0</td>\n      <td>23.0</td>\n      <td>33.0</td>\n    </tr>\n    <tr>\n      <th>3</th>\n      <td>2.0</td>\n      <td>-122.426995</td>\n      <td>37.800873</td>\n      <td>0.0</td>\n      <td>0.0</td>\n      <td>0.0</td>\n      <td>0.0</td>\n      <td>1.0</td>\n      <td>0.0</td>\n      <td>0.0</td>\n      <td>0.0</td>\n      <td>5.0</td>\n      <td>23.0</td>\n      <td>30.0</td>\n    </tr>\n    <tr>\n      <th>4</th>\n      <td>2.0</td>\n      <td>-122.438738</td>\n      <td>37.771541</td>\n      <td>0.0</td>\n      <td>0.0</td>\n      <td>0.0</td>\n      <td>0.0</td>\n      <td>0.0</td>\n      <td>1.0</td>\n      <td>0.0</td>\n      <td>0.0</td>\n      <td>5.0</td>\n      <td>23.0</td>\n      <td>30.0</td>\n    </tr>\n  </tbody>\n</table>\n</div>"
     },
     "metadata": {},
     "execution_count": 16
    }
   ],
   "source": [
    "X=X_origin.iloc[:,list(res)]\n",
    "y=y_origin\n",
    "X.head()"
   ]
  },
  {
   "cell_type": "code",
   "execution_count": 17,
   "metadata": {},
   "outputs": [
    {
     "output_type": "execute_result",
     "data": {
      "text/plain": [
       "   ARSON  ASSAULT  BAD CHECKS  BRIBERY  BURGLARY  DISORDERLY CONDUCT  \\\n",
       "0      0        0           0        0         0                   0   \n",
       "1      0        0           0        0         0                   0   \n",
       "2      0        0           0        0         0                   0   \n",
       "3      0        0           0        0         0                   0   \n",
       "4      0        0           0        0         0                   0   \n",
       "\n",
       "   DRIVING UNDER THE INFLUENCE  DRUG/NARCOTIC  DRUNKENNESS  EMBEZZLEMENT  ...  \\\n",
       "0                            0              0            0             0  ...   \n",
       "1                            0              0            0             0  ...   \n",
       "2                            0              0            0             0  ...   \n",
       "3                            0              0            0             0  ...   \n",
       "4                            0              0            0             0  ...   \n",
       "\n",
       "   SEX OFFENSES NON FORCIBLE  STOLEN PROPERTY  SUICIDE  SUSPICIOUS OCC  TREA  \\\n",
       "0                          0                0        0               0     0   \n",
       "1                          0                0        0               0     0   \n",
       "2                          0                0        0               0     0   \n",
       "3                          0                0        0               0     0   \n",
       "4                          0                0        0               0     0   \n",
       "\n",
       "   TRESPASS  VANDALISM  VEHICLE THEFT  WARRANTS  WEAPON LAWS  \n",
       "0         0          0              0         1            0  \n",
       "1         0          0              0         0            0  \n",
       "2         0          0              0         0            0  \n",
       "3         0          0              0         0            0  \n",
       "4         0          0              0         0            0  \n",
       "\n",
       "[5 rows x 39 columns]"
      ],
      "text/html": "<div>\n<style scoped>\n    .dataframe tbody tr th:only-of-type {\n        vertical-align: middle;\n    }\n\n    .dataframe tbody tr th {\n        vertical-align: top;\n    }\n\n    .dataframe thead th {\n        text-align: right;\n    }\n</style>\n<table border=\"1\" class=\"dataframe\">\n  <thead>\n    <tr style=\"text-align: right;\">\n      <th></th>\n      <th>ARSON</th>\n      <th>ASSAULT</th>\n      <th>BAD CHECKS</th>\n      <th>BRIBERY</th>\n      <th>BURGLARY</th>\n      <th>DISORDERLY CONDUCT</th>\n      <th>DRIVING UNDER THE INFLUENCE</th>\n      <th>DRUG/NARCOTIC</th>\n      <th>DRUNKENNESS</th>\n      <th>EMBEZZLEMENT</th>\n      <th>...</th>\n      <th>SEX OFFENSES NON FORCIBLE</th>\n      <th>STOLEN PROPERTY</th>\n      <th>SUICIDE</th>\n      <th>SUSPICIOUS OCC</th>\n      <th>TREA</th>\n      <th>TRESPASS</th>\n      <th>VANDALISM</th>\n      <th>VEHICLE THEFT</th>\n      <th>WARRANTS</th>\n      <th>WEAPON LAWS</th>\n    </tr>\n  </thead>\n  <tbody>\n    <tr>\n      <th>0</th>\n      <td>0</td>\n      <td>0</td>\n      <td>0</td>\n      <td>0</td>\n      <td>0</td>\n      <td>0</td>\n      <td>0</td>\n      <td>0</td>\n      <td>0</td>\n      <td>0</td>\n      <td>...</td>\n      <td>0</td>\n      <td>0</td>\n      <td>0</td>\n      <td>0</td>\n      <td>0</td>\n      <td>0</td>\n      <td>0</td>\n      <td>0</td>\n      <td>1</td>\n      <td>0</td>\n    </tr>\n    <tr>\n      <th>1</th>\n      <td>0</td>\n      <td>0</td>\n      <td>0</td>\n      <td>0</td>\n      <td>0</td>\n      <td>0</td>\n      <td>0</td>\n      <td>0</td>\n      <td>0</td>\n      <td>0</td>\n      <td>...</td>\n      <td>0</td>\n      <td>0</td>\n      <td>0</td>\n      <td>0</td>\n      <td>0</td>\n      <td>0</td>\n      <td>0</td>\n      <td>0</td>\n      <td>0</td>\n      <td>0</td>\n    </tr>\n    <tr>\n      <th>2</th>\n      <td>0</td>\n      <td>0</td>\n      <td>0</td>\n      <td>0</td>\n      <td>0</td>\n      <td>0</td>\n      <td>0</td>\n      <td>0</td>\n      <td>0</td>\n      <td>0</td>\n      <td>...</td>\n      <td>0</td>\n      <td>0</td>\n      <td>0</td>\n      <td>0</td>\n      <td>0</td>\n      <td>0</td>\n      <td>0</td>\n      <td>0</td>\n      <td>0</td>\n      <td>0</td>\n    </tr>\n    <tr>\n      <th>3</th>\n      <td>0</td>\n      <td>0</td>\n      <td>0</td>\n      <td>0</td>\n      <td>0</td>\n      <td>0</td>\n      <td>0</td>\n      <td>0</td>\n      <td>0</td>\n      <td>0</td>\n      <td>...</td>\n      <td>0</td>\n      <td>0</td>\n      <td>0</td>\n      <td>0</td>\n      <td>0</td>\n      <td>0</td>\n      <td>0</td>\n      <td>0</td>\n      <td>0</td>\n      <td>0</td>\n    </tr>\n    <tr>\n      <th>4</th>\n      <td>0</td>\n      <td>0</td>\n      <td>0</td>\n      <td>0</td>\n      <td>0</td>\n      <td>0</td>\n      <td>0</td>\n      <td>0</td>\n      <td>0</td>\n      <td>0</td>\n      <td>...</td>\n      <td>0</td>\n      <td>0</td>\n      <td>0</td>\n      <td>0</td>\n      <td>0</td>\n      <td>0</td>\n      <td>0</td>\n      <td>0</td>\n      <td>0</td>\n      <td>0</td>\n    </tr>\n  </tbody>\n</table>\n<p>5 rows × 39 columns</p>\n</div>"
     },
     "metadata": {},
     "execution_count": 17
    }
   ],
   "source": [
    "y.head()"
   ]
  },
  {
   "cell_type": "code",
   "execution_count": 18,
   "metadata": {},
   "outputs": [
    {
     "output_type": "stream",
     "name": "stdout",
     "text": [
      "(788153, 14) (788153, 39)\n",
      "(87573, 14) (87573, 39)\n"
     ]
    }
   ],
   "source": [
    "X_train,X_test,y_train,y_test=train_test_split(X,y,test_size=0.1,random_state=42)\n",
    "print(X_train.shape,y_train.shape)\n",
    "print(X_test.shape,y_test.shape)"
   ]
  },
  {
   "source": [
    "## 构建网络\n",
    "### 结构"
   ],
   "cell_type": "markdown",
   "metadata": {
    "papermill": {
     "duration": 0.023454,
     "end_time": "2021-02-26T06:42:23.876020",
     "exception": false,
     "start_time": "2021-02-26T06:42:23.852566",
     "status": "completed"
    },
    "tags": []
   }
  },
  {
   "cell_type": "code",
   "execution_count": 19,
   "metadata": {
    "execution": {
     "iopub.execute_input": "2021-02-26T06:42:23.929267Z",
     "iopub.status.busy": "2021-02-26T06:42:23.928400Z",
     "iopub.status.idle": "2021-02-26T06:42:24.073633Z",
     "shell.execute_reply": "2021-02-26T06:42:24.073146Z"
    },
    "papermill": {
     "duration": 0.175103,
     "end_time": "2021-02-26T06:42:24.073784",
     "exception": false,
     "start_time": "2021-02-26T06:42:23.898681",
     "status": "completed"
    },
    "tags": []
   },
   "outputs": [
    {
     "output_type": "stream",
     "name": "stdout",
     "text": [
      "Model: \"sequential\"\n",
      "_________________________________________________________________\n",
      "Layer (type)                 Output Shape              Param #   \n",
      "=================================================================\n",
      "dense (Dense)                (None, 128)               1920      \n",
      "_________________________________________________________________\n",
      "dense_1 (Dense)              (None, 128)               16512     \n",
      "_________________________________________________________________\n",
      "dense_2 (Dense)              (None, 64)                8256      \n",
      "_________________________________________________________________\n",
      "dense_3 (Dense)              (None, 64)                4160      \n",
      "_________________________________________________________________\n",
      "dense_4 (Dense)              (None, 64)                4160      \n",
      "_________________________________________________________________\n",
      "dense_5 (Dense)              (None, 64)                4160      \n",
      "_________________________________________________________________\n",
      "dense_6 (Dense)              (None, 39)                2535      \n",
      "=================================================================\n",
      "Total params: 41,703\n",
      "Trainable params: 41,703\n",
      "Non-trainable params: 0\n",
      "_________________________________________________________________\n"
     ]
    }
   ],
   "source": [
    "model=Sequential()\n",
    "model.add(Dense(128,input_shape=(X.shape[1],)))\n",
    "model.add(Dense(128,activation='relu'))\n",
    "model.add(Dense(64,activation='relu'))\n",
    "model.add(Dense(64,activation='relu'))\n",
    "model.add(Dense(64,activation='relu'))\n",
    "model.add(Dense(64,activation='relu'))\n",
    "model.add(Dense(39,activation='softmax'))\n",
    "model.summary()"
   ]
  },
  {
   "source": [
    "### 参数与训练结果"
   ],
   "cell_type": "markdown",
   "metadata": {
    "papermill": {
     "duration": 0.024562,
     "end_time": "2021-02-26T06:42:24.122053",
     "exception": false,
     "start_time": "2021-02-26T06:42:24.097491",
     "status": "completed"
    },
    "tags": []
   }
  },
  {
   "cell_type": "code",
   "execution_count": 20,
   "metadata": {
    "execution": {
     "iopub.execute_input": "2021-02-26T06:42:24.172146Z",
     "iopub.status.busy": "2021-02-26T06:42:24.171491Z",
     "iopub.status.idle": "2021-02-26T06:42:24.186543Z",
     "shell.execute_reply": "2021-02-26T06:42:24.187240Z"
    },
    "papermill": {
     "duration": 0.042006,
     "end_time": "2021-02-26T06:42:24.187439",
     "exception": false,
     "start_time": "2021-02-26T06:42:24.145433",
     "status": "completed"
    },
    "tags": []
   },
   "outputs": [],
   "source": [
    "model.compile(optimizer='adam',\n",
    "              loss='categorical_crossentropy',\n",
    "              metrics=['accuracy'])"
   ]
  },
  {
   "cell_type": "code",
   "execution_count": 21,
   "metadata": {
    "execution": {
     "iopub.execute_input": "2021-02-26T06:42:24.239759Z",
     "iopub.status.busy": "2021-02-26T06:42:24.239168Z",
     "iopub.status.idle": "2021-02-26T06:50:28.692585Z",
     "shell.execute_reply": "2021-02-26T06:50:28.693069Z"
    },
    "papermill": {
     "duration": 484.480641,
     "end_time": "2021-02-26T06:50:28.693251",
     "exception": false,
     "start_time": "2021-02-26T06:42:24.212610",
     "status": "completed"
    },
    "tags": []
   },
   "outputs": [
    {
     "output_type": "stream",
     "name": "stdout",
     "text": [
      "Epoch 1/20\n",
      "24630/24630 - 34s - loss: 2.5795 - accuracy: 0.2332 - val_loss: 2.5569 - val_accuracy: 0.2387\n",
      "Epoch 2/20\n",
      "24630/24630 - 33s - loss: 2.5345 - accuracy: 0.2417 - val_loss: 2.5344 - val_accuracy: 0.2380\n",
      "Epoch 3/20\n",
      "24630/24630 - 32s - loss: 2.5277 - accuracy: 0.2424 - val_loss: 2.5181 - val_accuracy: 0.2424\n",
      "Epoch 4/20\n",
      "24630/24630 - 34s - loss: 2.5303 - accuracy: 0.2400 - val_loss: 2.5215 - val_accuracy: 0.2408\n",
      "Epoch 5/20\n",
      "24630/24630 - 32s - loss: 2.5266 - accuracy: 0.2412 - val_loss: 2.5147 - val_accuracy: 0.2407\n",
      "Epoch 6/20\n",
      "24630/24630 - 40s - loss: 2.5274 - accuracy: 0.2403 - val_loss: 2.5150 - val_accuracy: 0.2405\n",
      "Epoch 7/20\n",
      "24630/24630 - 44s - loss: 2.5328 - accuracy: 0.2381 - val_loss: 2.5457 - val_accuracy: 0.2302\n",
      "Epoch 8/20\n",
      "24630/24630 - 46s - loss: 2.5327 - accuracy: 0.2385 - val_loss: 2.5230 - val_accuracy: 0.2375\n",
      "Epoch 9/20\n",
      "24630/24630 - 31s - loss: 2.5294 - accuracy: 0.2387 - val_loss: 2.5217 - val_accuracy: 0.2380\n",
      "Epoch 10/20\n",
      "24630/24630 - 29s - loss: 2.5279 - accuracy: 0.2395 - val_loss: 2.5183 - val_accuracy: 0.2408\n",
      "Epoch 11/20\n",
      "24630/24630 - 31s - loss: 2.5273 - accuracy: 0.2398 - val_loss: 2.5222 - val_accuracy: 0.2374\n",
      "Epoch 12/20\n",
      "24630/24630 - 35s - loss: 2.5272 - accuracy: 0.2395 - val_loss: 2.5349 - val_accuracy: 0.2344\n",
      "Epoch 13/20\n",
      "24630/24630 - 34s - loss: 2.5271 - accuracy: 0.2394 - val_loss: 2.5353 - val_accuracy: 0.2355\n",
      "Epoch 14/20\n",
      "24630/24630 - 33s - loss: 2.5305 - accuracy: 0.2393 - val_loss: 2.5395 - val_accuracy: 0.2348\n",
      "Epoch 15/20\n",
      "24630/24630 - 33s - loss: 2.5458 - accuracy: 0.2354 - val_loss: 2.5613 - val_accuracy: 0.2305\n",
      "Epoch 16/20\n",
      "24630/24630 - 36s - loss: 2.5365 - accuracy: 0.2375 - val_loss: 2.5293 - val_accuracy: 0.2370\n",
      "Epoch 17/20\n",
      "24630/24630 - 33s - loss: 2.5291 - accuracy: 0.2401 - val_loss: 2.5208 - val_accuracy: 0.2395\n",
      "Epoch 18/20\n",
      "24630/24630 - 34s - loss: 2.5307 - accuracy: 0.2383 - val_loss: 2.5275 - val_accuracy: 0.2377\n",
      "Epoch 19/20\n",
      "24630/24630 - 36s - loss: 2.5281 - accuracy: 0.2393 - val_loss: 2.5189 - val_accuracy: 0.2387\n",
      "Epoch 20/20\n",
      "24630/24630 - 34s - loss: 2.5246 - accuracy: 0.2405 - val_loss: 2.5192 - val_accuracy: 0.2398\n"
     ]
    }
   ],
   "source": [
    "train=model.fit(X_train,y_train, \n",
    "         batch_size=32,\n",
    "         epochs=20,\n",
    "         verbose=2,\n",
    "         validation_data=(X_test,y_test))"
   ]
  },
  {
   "source": [
    "## 预测"
   ],
   "cell_type": "markdown",
   "metadata": {
    "papermill": {
     "duration": 0.027899,
     "end_time": "2021-02-26T06:50:29.393641",
     "exception": false,
     "start_time": "2021-02-26T06:50:29.365742",
     "status": "completed"
    },
    "tags": []
   }
  },
  {
   "cell_type": "code",
   "execution_count": 22,
   "metadata": {
    "execution": {
     "iopub.execute_input": "2021-02-26T06:50:29.455891Z",
     "iopub.status.busy": "2021-02-26T06:50:29.455259Z",
     "iopub.status.idle": "2021-02-26T06:50:51.587735Z",
     "shell.execute_reply": "2021-02-26T06:50:51.588260Z"
    },
    "papermill": {
     "duration": 22.166475,
     "end_time": "2021-02-26T06:50:51.588472",
     "exception": false,
     "start_time": "2021-02-26T06:50:29.421997",
     "status": "completed"
    },
    "tags": []
   },
   "outputs": [
    {
     "output_type": "execute_result",
     "data": {
      "text/plain": [
       "array([[3.3072690e-03, 1.2992021e-01, 5.8769706e-06, ..., 3.9530918e-02,\n",
       "        7.2954178e-02, 3.9255667e-02],\n",
       "       [3.0926205e-03, 1.2886511e-01, 5.2753740e-06, ..., 3.8371887e-02,\n",
       "        7.1838446e-02, 3.8308471e-02],\n",
       "       [1.8100927e-03, 9.3128420e-02, 3.4170800e-05, ..., 3.1303577e-02,\n",
       "        7.2571389e-02, 1.6426617e-02],\n",
       "       ...,\n",
       "       [1.3080098e-03, 7.0769452e-02, 1.8809896e-03, ..., 9.6306406e-02,\n",
       "        6.0297442e-03, 3.9162422e-03],\n",
       "       [1.0293981e-03, 7.1546793e-02, 1.7135743e-03, ..., 8.7514736e-02,\n",
       "        6.3634319e-03, 3.6236104e-03],\n",
       "       [1.1742589e-03, 6.8106867e-02, 2.1473588e-03, ..., 9.1838092e-02,\n",
       "        5.8941874e-03, 3.8117815e-03]], dtype=float32)"
      ]
     },
     "metadata": {},
     "execution_count": 22
    }
   ],
   "source": [
    "test=test_data.iloc[:,list(res)].astype(float)\n",
    "pred=model.predict(test)\n",
    "pred"
   ]
  },
  {
   "cell_type": "code",
   "execution_count": 23,
   "metadata": {
    "execution": {
     "iopub.execute_input": "2021-02-26T06:50:51.653780Z",
     "iopub.status.busy": "2021-02-26T06:50:51.651958Z",
     "iopub.status.idle": "2021-02-26T06:50:51.803003Z",
     "shell.execute_reply": "2021-02-26T06:50:51.802244Z"
    },
    "papermill": {
     "duration": 0.185853,
     "end_time": "2021-02-26T06:50:51.803175",
     "exception": false,
     "start_time": "2021-02-26T06:50:51.617322",
     "status": "completed"
    },
    "tags": []
   },
   "outputs": [
    {
     "output_type": "execute_result",
     "data": {
      "text/plain": [
       "array([[0, 0, 0, ..., 0, 0, 0],\n",
       "       [0, 0, 0, ..., 0, 0, 0],\n",
       "       [0, 0, 0, ..., 0, 0, 0],\n",
       "       ...,\n",
       "       [0, 0, 0, ..., 0, 0, 0],\n",
       "       [0, 0, 0, ..., 0, 0, 0],\n",
       "       [0, 0, 0, ..., 0, 0, 0]])"
      ]
     },
     "metadata": {},
     "execution_count": 23
    }
   ],
   "source": [
    "m = np.max(pred, axis=1).reshape(-1, 1)\n",
    "predicted = np.array((pred == m), dtype='int32')\n",
    "predicted"
   ]
  },
  {
   "cell_type": "code",
   "execution_count": 24,
   "metadata": {
    "execution": {
     "iopub.execute_input": "2021-02-26T06:50:51.927818Z",
     "iopub.status.busy": "2021-02-26T06:50:51.926912Z",
     "iopub.status.idle": "2021-02-26T06:50:53.864363Z",
     "shell.execute_reply": "2021-02-26T06:50:53.863748Z"
    },
    "papermill": {
     "duration": 1.971947,
     "end_time": "2021-02-26T06:50:53.864517",
     "exception": false,
     "start_time": "2021-02-26T06:50:51.892570",
     "status": "completed"
    },
    "tags": []
   },
   "outputs": [],
   "source": [
    "sample=pd.read_csv('sampleSubmission.csv.zip')\n",
    "col_names=list(sample.columns)\n",
    "col_names.remove('Id')"
   ]
  },
  {
   "cell_type": "code",
   "execution_count": 25,
   "metadata": {
    "execution": {
     "iopub.execute_input": "2021-02-26T06:50:53.930531Z",
     "iopub.status.busy": "2021-02-26T06:50:53.929833Z",
     "iopub.status.idle": "2021-02-26T06:50:54.411022Z",
     "shell.execute_reply": "2021-02-26T06:50:54.411473Z"
    },
    "papermill": {
     "duration": 0.516103,
     "end_time": "2021-02-26T06:50:54.411658",
     "exception": false,
     "start_time": "2021-02-26T06:50:53.895555",
     "status": "completed"
    },
    "tags": []
   },
   "outputs": [
    {
     "output_type": "execute_result",
     "data": {
      "text/plain": [
       "   ARSON  ASSAULT  BAD CHECKS  BRIBERY  BURGLARY  DISORDERLY CONDUCT  \\\n",
       "0      0        0           0        0         0                   0   \n",
       "1      0        0           0        0         0                   0   \n",
       "2      0        0           0        0         0                   0   \n",
       "3      0        0           0        0         0                   0   \n",
       "4      0        0           0        0         0                   0   \n",
       "\n",
       "   DRIVING UNDER THE INFLUENCE  DRUG/NARCOTIC  DRUNKENNESS  EMBEZZLEMENT  ...  \\\n",
       "0                            0              0            0             0  ...   \n",
       "1                            0              0            0             0  ...   \n",
       "2                            0              0            0             0  ...   \n",
       "3                            0              0            0             0  ...   \n",
       "4                            0              0            0             0  ...   \n",
       "\n",
       "   SEX OFFENSES NON FORCIBLE  STOLEN PROPERTY  SUICIDE  SUSPICIOUS OCC  TREA  \\\n",
       "0                          0                0        0               0     0   \n",
       "1                          0                0        0               0     0   \n",
       "2                          0                0        0               0     0   \n",
       "3                          0                0        0               0     0   \n",
       "4                          0                0        0               0     0   \n",
       "\n",
       "   TRESPASS  VANDALISM  VEHICLE THEFT  WARRANTS  WEAPON LAWS  \n",
       "0         0          0              0         0            0  \n",
       "1         0          0              0         0            0  \n",
       "2         0          0              0         0            0  \n",
       "3         0          0              0         0            0  \n",
       "4         0          0              0         0            0  \n",
       "\n",
       "[5 rows x 39 columns]"
      ],
      "text/html": "<div>\n<style scoped>\n    .dataframe tbody tr th:only-of-type {\n        vertical-align: middle;\n    }\n\n    .dataframe tbody tr th {\n        vertical-align: top;\n    }\n\n    .dataframe thead th {\n        text-align: right;\n    }\n</style>\n<table border=\"1\" class=\"dataframe\">\n  <thead>\n    <tr style=\"text-align: right;\">\n      <th></th>\n      <th>ARSON</th>\n      <th>ASSAULT</th>\n      <th>BAD CHECKS</th>\n      <th>BRIBERY</th>\n      <th>BURGLARY</th>\n      <th>DISORDERLY CONDUCT</th>\n      <th>DRIVING UNDER THE INFLUENCE</th>\n      <th>DRUG/NARCOTIC</th>\n      <th>DRUNKENNESS</th>\n      <th>EMBEZZLEMENT</th>\n      <th>...</th>\n      <th>SEX OFFENSES NON FORCIBLE</th>\n      <th>STOLEN PROPERTY</th>\n      <th>SUICIDE</th>\n      <th>SUSPICIOUS OCC</th>\n      <th>TREA</th>\n      <th>TRESPASS</th>\n      <th>VANDALISM</th>\n      <th>VEHICLE THEFT</th>\n      <th>WARRANTS</th>\n      <th>WEAPON LAWS</th>\n    </tr>\n  </thead>\n  <tbody>\n    <tr>\n      <th>0</th>\n      <td>0</td>\n      <td>0</td>\n      <td>0</td>\n      <td>0</td>\n      <td>0</td>\n      <td>0</td>\n      <td>0</td>\n      <td>0</td>\n      <td>0</td>\n      <td>0</td>\n      <td>...</td>\n      <td>0</td>\n      <td>0</td>\n      <td>0</td>\n      <td>0</td>\n      <td>0</td>\n      <td>0</td>\n      <td>0</td>\n      <td>0</td>\n      <td>0</td>\n      <td>0</td>\n    </tr>\n    <tr>\n      <th>1</th>\n      <td>0</td>\n      <td>0</td>\n      <td>0</td>\n      <td>0</td>\n      <td>0</td>\n      <td>0</td>\n      <td>0</td>\n      <td>0</td>\n      <td>0</td>\n      <td>0</td>\n      <td>...</td>\n      <td>0</td>\n      <td>0</td>\n      <td>0</td>\n      <td>0</td>\n      <td>0</td>\n      <td>0</td>\n      <td>0</td>\n      <td>0</td>\n      <td>0</td>\n      <td>0</td>\n    </tr>\n    <tr>\n      <th>2</th>\n      <td>0</td>\n      <td>0</td>\n      <td>0</td>\n      <td>0</td>\n      <td>0</td>\n      <td>0</td>\n      <td>0</td>\n      <td>0</td>\n      <td>0</td>\n      <td>0</td>\n      <td>...</td>\n      <td>0</td>\n      <td>0</td>\n      <td>0</td>\n      <td>0</td>\n      <td>0</td>\n      <td>0</td>\n      <td>0</td>\n      <td>0</td>\n      <td>0</td>\n      <td>0</td>\n    </tr>\n    <tr>\n      <th>3</th>\n      <td>0</td>\n      <td>0</td>\n      <td>0</td>\n      <td>0</td>\n      <td>0</td>\n      <td>0</td>\n      <td>0</td>\n      <td>0</td>\n      <td>0</td>\n      <td>0</td>\n      <td>...</td>\n      <td>0</td>\n      <td>0</td>\n      <td>0</td>\n      <td>0</td>\n      <td>0</td>\n      <td>0</td>\n      <td>0</td>\n      <td>0</td>\n      <td>0</td>\n      <td>0</td>\n    </tr>\n    <tr>\n      <th>4</th>\n      <td>0</td>\n      <td>0</td>\n      <td>0</td>\n      <td>0</td>\n      <td>0</td>\n      <td>0</td>\n      <td>0</td>\n      <td>0</td>\n      <td>0</td>\n      <td>0</td>\n      <td>...</td>\n      <td>0</td>\n      <td>0</td>\n      <td>0</td>\n      <td>0</td>\n      <td>0</td>\n      <td>0</td>\n      <td>0</td>\n      <td>0</td>\n      <td>0</td>\n      <td>0</td>\n    </tr>\n  </tbody>\n</table>\n<p>5 rows × 39 columns</p>\n</div>"
     },
     "metadata": {},
     "execution_count": 25
    }
   ],
   "source": [
    "submission = pd.DataFrame()\n",
    "for i, entry in enumerate(col_names):\n",
    "    submission[entry] = predicted[:,i]\n",
    "submission.to_csv('submission_selected.csv', index=False)\n",
    "submission.head()"
   ]
  }
 ],
 "metadata": {
  "kernelspec": {
   "name": "python3",
   "display_name": "Python 3",
   "language": "python"
  },
  "language_info": {
   "codemirror_mode": {
    "name": "ipython",
    "version": 3
   },
   "file_extension": ".py",
   "mimetype": "text/x-python",
   "name": "python",
   "nbconvert_exporter": "python",
   "pygments_lexer": "ipython3",
   "version": "3.7.10-final"
  },
  "papermill": {
   "default_parameters": {},
   "duration": 547.167429,
   "end_time": "2021-02-26T06:51:02.778416",
   "environment_variables": {},
   "exception": null,
   "input_path": "__notebook__.ipynb",
   "output_path": "__notebook__.ipynb",
   "parameters": {},
   "start_time": "2021-02-26T06:41:55.610987",
   "version": "2.2.2"
  }
 },
 "nbformat": 4,
 "nbformat_minor": 4
}