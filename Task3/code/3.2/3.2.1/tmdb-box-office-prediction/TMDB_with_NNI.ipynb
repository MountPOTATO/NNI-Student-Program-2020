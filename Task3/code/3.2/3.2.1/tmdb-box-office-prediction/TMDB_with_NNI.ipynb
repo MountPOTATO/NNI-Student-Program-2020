{
 "cells": [
  {
   "cell_type": "code",
   "execution_count": 23,
   "id": "attended-breakfast",
   "metadata": {},
   "outputs": [
    {
     "data": {
      "text/plain": [
       "((3000, 23), (4398, 22))"
      ]
     },
     "execution_count": 23,
     "metadata": {},
     "output_type": "execute_result"
    }
   ],
   "source": [
    "import numpy as np\n",
    "import pandas as pd\n",
    "\n",
    "train_data = pd.read_csv('train.csv')\n",
    "test_data = pd.read_csv('test.csv')\n",
    "train_data.shape, test_data.shape"
   ]
  },
  {
   "cell_type": "code",
   "execution_count": 27,
   "id": "amazing-embassy",
   "metadata": {},
   "outputs": [],
   "source": [
    "from ast import literal_eval\n",
    "from collections import Counter\n",
    "from sklearn.base import BaseEstimator, TransformerMixin"
   ]
  },
  {
   "cell_type": "code",
   "execution_count": 28,
   "id": "dramatic-township",
   "metadata": {},
   "outputs": [],
   "source": [
    "class TextToDictTransformer(BaseEstimator, TransformerMixin):\n",
    "    def __init__(self, features):\n",
    "        self.features = features\n",
    "    \n",
    "    def fit(self, X, y=None):\n",
    "        return self\n",
    "    \n",
    "    def transform(self, X):\n",
    "        for column in self.features:\n",
    "            X[column] = X[column].apply(lambda x: {} if pd.isna(x) else literal_eval(x))\n",
    "        return X\n",
    "    \n",
    "class BooleanTransformer(BaseEstimator, TransformerMixin):\n",
    "    def __init__(self, features):\n",
    "        self.features = features\n",
    "    \n",
    "    def fit(self, X, y=None):\n",
    "        return self\n",
    "    \n",
    "    def transform(self, X):\n",
    "        try:\n",
    "            for column in self.features:\n",
    "                X[column] = X[column].apply(lambda x: 1 if x != {} and pd.isna(x) == False else 0)\n",
    "        except Exception as ex:\n",
    "            print(\"Boolean transformer error:\", ex)\n",
    "        return X\n",
    "    \n",
    "class OneHotTransformer(BaseEstimator, TransformerMixin):\n",
    "\n",
    "    def __init__(self, features, top_values):\n",
    "        self.features = features\n",
    "        self.top_values = top_values\n",
    "    \n",
    "    def fit(self, X, y=None):\n",
    "        return self\n",
    "    \n",
    "    def transform(self, X):\n",
    "        try:\n",
    "            i = 0\n",
    "            for feature in self.features:\n",
    "                for name in self.top_values[i]:\n",
    "                    X[f'{feature}_{name}'] = X[feature].apply(lambda x: 1 if name in str(x) else 0)\n",
    "                i += 1\n",
    "                    \n",
    "            X = X.drop(self.features, axis=1)\n",
    "        except Exception as ex:\n",
    "            print(\"One hot tansformer error:\", ex)\n",
    "        return X\n",
    "    \n",
    "class CastTransformer(BaseEstimator, TransformerMixin):\n",
    "\n",
    "    def __init__(self, top_cast_names, top_cast_chars):\n",
    "        self.top_cast_names = top_cast_names\n",
    "        self.top_cast_chars = top_cast_chars\n",
    "        \n",
    "    def fit(self, X, y=None):\n",
    "        return self\n",
    "    \n",
    "    def transform(self, X):\n",
    "        try:\n",
    "            X['cast_len'] = X['cast'].apply(lambda x: len(x) if x != {} else 0)\n",
    "            \n",
    "            for name in self.top_cast_names:\n",
    "                X[f'cast_name_{name}'] = X['cast'].apply(lambda x: 1 if name in str(x) else 0)\n",
    "                \n",
    "            for name in self.top_cast_chars:\n",
    "                X[f'cast_char_{name}'] = X['cast'].apply(lambda x: 1 if name in str(x) else 0)\n",
    "            \n",
    "            X['cast_gender_undef'] = X['cast'].apply(lambda x: sum([1 for i in x if i['gender'] == 0]))\n",
    "            X['cast_gender_male'] = X['cast'].apply(lambda x: sum([1 for i in x if i['gender'] == 1]))\n",
    "            X['cast_gender_female'] = X['cast'].apply(lambda x: sum([1 for i in x if i['gender'] == 2]))\n",
    "            \n",
    "            X = X.drop('cast', axis=1)\n",
    "        except Exception as ex:\n",
    "            print(\"Cast transformer error:\", ex)\n",
    "        return X\n",
    "    \n",
    "class CrewTransformer(BaseEstimator, TransformerMixin):\n",
    "    def __init__(self, top_crew_names, top_crew_jobs, top_crew_departments):\n",
    "        self.top_crew_names = top_crew_names\n",
    "        self.top_crew_jobs = top_crew_jobs\n",
    "        self.top_crew_departments = top_crew_departments\n",
    "    \n",
    "    def fit(self, X, y=None):\n",
    "        return self\n",
    "    \n",
    "    def transform(self, X):\n",
    "        try:\n",
    "            X['crew_len'] = X['crew'].apply(lambda x: len(x) if x != {} else 0)\n",
    "            \n",
    "            for name in self.top_crew_names:\n",
    "                X[f'crew_name_{name}'] = X['crew'].apply(lambda x: 1 if name in str(x) else 0)\n",
    "                \n",
    "            for name in self.top_crew_jobs:\n",
    "                X[f'crew_job_{name}'] = X['crew'].apply(lambda x: 1 if name in str(x) else 0)\n",
    "                \n",
    "            for name in self.top_crew_departments:\n",
    "                X[f'crew_department_{name}'] = X['crew'].apply(lambda x: 1 if name in str(x) else 0)\n",
    "            \n",
    "            X['crew_gender_undef'] = X['crew'].apply(lambda x: sum([1 for i in x if i['gender'] == 0]))\n",
    "            X['crew_gender_male'] = X['crew'].apply(lambda x: sum([1 for i in x if i['gender'] == 1]))\n",
    "            X['crew_gender_female'] = X['crew'].apply(lambda x: sum([1 for i in x if i['gender'] == 2]))\n",
    "            \n",
    "            X = X.drop('crew', axis=1)\n",
    "        except Exception as ex:\n",
    "            print(\"Crew transformer error:\", ex)\n",
    "        return X\n",
    "    \n",
    "class DateTransformer(BaseEstimator, TransformerMixin):        \n",
    "    def fit(self, X, y=None):\n",
    "        return self\n",
    "    \n",
    "    def transform(self, X):\n",
    "        try:            \n",
    "            X['year'] = pd.Series(pd.DatetimeIndex(X['release_date']).year)\n",
    "            X['month'] = pd.Series(pd.DatetimeIndex(X['release_date']).month)\n",
    "            X['day'] = pd.Series(pd.DatetimeIndex(X['release_date']).day)\n",
    "            X = X.drop('release_date', axis=1)\n",
    "        except Exception as ex:\n",
    "            print(\"Date transformer pipeline error:\", ex)\n",
    "        return X\n",
    "    \n",
    "class FixRevenueTransformer(BaseEstimator, TransformerMixin):\n",
    "    def fit(self, X, y=None):\n",
    "        return self\n",
    "    \n",
    "    def transform(self, X):\n",
    "        try:\n",
    "            X.loc[X['id'] == 16,'revenue'] = 192864          # Skinning\n",
    "            X.loc[X['id'] == 90,'budget'] = 30000000         # Sommersby          \n",
    "            X.loc[X['id'] == 118,'budget'] = 60000000        # Wild Hogs\n",
    "            X.loc[X['id'] == 149,'budget'] = 18000000        # Beethoven\n",
    "            X.loc[X['id'] == 313,'revenue'] = 12000000       # The Cookout \n",
    "            X.loc[X['id'] == 451,'revenue'] = 12000000       # Chasing Liberty\n",
    "            X.loc[X['id'] == 464,'budget'] = 20000000        # Parenthood\n",
    "            X.loc[X['id'] == 470,'budget'] = 13000000        # The Karate Kid, Part II\n",
    "            X.loc[X['id'] == 513,'budget'] = 930000          # From Prada to Nada\n",
    "            X.loc[X['id'] == 797,'budget'] = 8000000         # Welcome to Dongmakgol\n",
    "            X.loc[X['id'] == 819,'budget'] = 90000000        # Alvin and the Chipmunks: The Road Chip\n",
    "            X.loc[X['id'] == 850,'budget'] = 90000000        # Modern Times\n",
    "            X.loc[X['id'] == 1112,'budget'] = 7500000        # An Officer and a Gentleman\n",
    "            X.loc[X['id'] == 1131,'budget'] = 4300000        # Smokey and the Bandit   \n",
    "            X.loc[X['id'] == 1359,'budget'] = 10000000       # Stir Crazy \n",
    "            X.loc[X['id'] == 1542,'budget'] = 1              # All at Once\n",
    "            X.loc[X['id'] == 1570,'budget'] = 15800000       # Crocodile Dundee II\n",
    "            X.loc[X['id'] == 1571,'budget'] = 4000000        # Lady and the Tramp\n",
    "            X.loc[X['id'] == 1714,'budget'] = 46000000       # The Recruit\n",
    "            X.loc[X['id'] == 1721,'budget'] = 17500000       # Cocoon\n",
    "            X.loc[X['id'] == 1865,'revenue'] = 25000000      # Scooby-Doo 2: Monsters Unleashed\n",
    "            X.loc[X['id'] == 2268,'budget'] = 17500000       # Madea Goes to Jail budget\n",
    "            X.loc[X['id'] == 2491,'revenue'] = 6800000       # Never Talk to Strangers\n",
    "            X.loc[X['id'] == 2602,'budget'] = 31000000       # Mr. Holland's Opus\n",
    "            X.loc[X['id'] == 2612,'budget'] = 15000000       # Field of Dreams\n",
    "            X.loc[X['id'] == 2696,'budget'] = 10000000       # Nurse 3-D\n",
    "            X.loc[X['id'] == 2801,'budget'] = 10000000       # Fracture\n",
    "            X.loc[X['id'] == 3889,'budget'] = 15000000       # Colossal\n",
    "            X.loc[X['id'] == 6733,'budget'] = 5000000        # The Big Sick\n",
    "            X.loc[X['id'] == 3197,'budget'] = 8000000        # High-Rise\n",
    "            X.loc[X['id'] == 6683,'budget'] = 50000000       # The Pink Panther 2\n",
    "            X.loc[X['id'] == 5704,'budget'] = 4300000        # French Connection II\n",
    "            X.loc[X['id'] == 6109,'budget'] = 281756         # Dogtooth\n",
    "            X.loc[X['id'] == 7242,'budget'] = 10000000       # Addams Family Values\n",
    "            X.loc[X['id'] == 7021,'budget'] = 17540562       #  Two Is a Family\n",
    "            X.loc[X['id'] == 5591,'budget'] = 4000000        # The Orphanage\n",
    "            X.loc[X['id'] == 4282,'budget'] = 20000000       # Big Top Pee-wee\n",
    "\n",
    "            power_six = X.id[X.budget > 1000][X.revenue < 100]\n",
    "\n",
    "            for k in power_six :\n",
    "                X.loc[X['id'] == k,'revenue'] =  X.loc[X['id'] == k,'revenue'] * 1000000\n",
    "                \n",
    "            return X\n",
    "        \n",
    "        except Exception as ex:\n",
    "            print(\"Fix revenue transformer error:\", ex)\n",
    "            \n",
    "class DropFeaturesTransformer(BaseEstimator, TransformerMixin):\n",
    "\n",
    "    def __init__(self, features):\n",
    "        self.features = features\n",
    "    \n",
    "    def fit(self, X, y=None):\n",
    "        return self\n",
    "    \n",
    "    def transform(self, X):\n",
    "        try:\n",
    "            return X.drop(self.features, axis=1)\n",
    "        except Exception as ex:\n",
    "            print(\"Drop features transformer error:\", ex)\n",
    "            \n",
    "\n",
    "class TrainTestTransformer(BaseEstimator, TransformerMixin):        \n",
    "    def __init__(self, impute=False, normalize=False):\n",
    "        self.impute = impute\n",
    "        self.normalize = normalize\n",
    "        \n",
    "    def fit(self, X, y=None):\n",
    "        \n",
    "        if self.impute:\n",
    "            X = X.fillna(X.median())\n",
    "    \n",
    "        self.X = X.drop('revenue', axis=1)    \n",
    "        self.y = X['revenue']\n",
    "        \n",
    "        if self.normalize:\n",
    "            self.X = MinMaxScaler().fit_transform(self.X)\n",
    "        \n",
    "        return self\n",
    "    \n",
    "    def transform(self, X):\n",
    "        return train_test_split(self.X, self.y, test_size=0.10)\n",
    "\n",
    "def top_values(X, column, attribute):\n",
    "\n",
    "    try:\n",
    "        values = X[column].apply(lambda x: [i[attribute] for i in x] if x != {} else []).values\n",
    "        top_values = Counter([j for i in values for j in i]).most_common(30)\n",
    "        top_values = [i[0] for i in top_values]\n",
    "        return top_values\n",
    "    except Exception as ex:\n",
    "        print(ex)"
   ]
  },
  {
   "cell_type": "code",
   "execution_count": 29,
   "id": "given-measure",
   "metadata": {},
   "outputs": [],
   "source": [
    "from sklearn.pipeline import Pipeline\n",
    "from sklearn.model_selection import train_test_split\n",
    "\n",
    "\n",
    "text_to_dict = ['belongs_to_collection', 'genres', 'production_companies',\n",
    "                'production_countries', 'spoken_languages', 'Keywords', 'cast', 'crew']\n",
    "\n",
    "boolean_features = ['homepage', 'belongs_to_collection']\n",
    "\n",
    "one_hot_objects = ['genres', 'production_countries', 'spoken_languages', 'production_companies']\n",
    "\n",
    "drop_features = ['id',\n",
    "                'original_language',\n",
    "                'Keywords',\n",
    "                'imdb_id',\n",
    "                'status',\n",
    "                'poster_path', \n",
    "                'original_title',\n",
    "                'overview',\n",
    "                'tagline',\n",
    "                'title'\n",
    "                ]\n",
    "\n",
    "\n",
    "engineered_data = TextToDictTransformer(text_to_dict).transform(train_data.copy())\n",
    "\n",
    "one_hot_top_values = [top_values(engineered_data, i, 'name')  for i in one_hot_objects]\n",
    "\n",
    "feature_engineering_pipeline = Pipeline([\n",
    "    ('boolean_transformer', BooleanTransformer(boolean_features)), \n",
    "    ('one_hot_transformer', OneHotTransformer(one_hot_objects, one_hot_top_values)),\n",
    "    ('date_transformer', DateTransformer()),\n",
    "    ('cast_transformer', CastTransformer(top_values(engineered_data, 'cast', 'name'),\n",
    "                                         top_values(engineered_data, 'cast', 'character'))),\n",
    "    ('crew_transformer', CrewTransformer(top_values(engineered_data, 'crew', 'name'),\n",
    "                                         top_values(engineered_data, 'crew', 'job'),\n",
    "                                         top_values(engineered_data, 'crew', 'department'))),\n",
    "    ('fix_revenue_transformer', FixRevenueTransformer()),\n",
    "    ('drop_features_transformers', DropFeaturesTransformer(drop_features)),\n",
    "])\n",
    "\n",
    "engineered_data = feature_engineering_pipeline.fit_transform(engineered_data)\n",
    "X_train, X_valid, y_train, y_valid = TrainTestTransformer(impute=True, normalize=False).fit_transform(engineered_data)"
   ]
  },
  {
   "cell_type": "code",
   "execution_count": 56,
   "id": "adequate-bronze",
   "metadata": {},
   "outputs": [],
   "source": [
    "from nni.algorithms.feature_engineering.gradient_selector import FeatureGradientSelector\n",
    "from nni.algorithms.feature_engineering.gbdt_selector import GBDTSelector"
   ]
  },
  {
   "cell_type": "code",
   "execution_count": 149,
   "id": "religious-marketing",
   "metadata": {},
   "outputs": [
    {
     "name": "stdout",
     "output_type": "stream",
     "text": [
      "[  0   1   3   4  11  14  21  23  25  55 180 181 213 216 224 257]\n"
     ]
    },
    {
     "data": {
      "text/plain": [
       "numpy.ndarray"
      ]
     },
     "execution_count": 149,
     "metadata": {},
     "output_type": "execute_result"
    }
   ],
   "source": [
    "fgs = FeatureGradientSelector(n_features=16, classification=False)\n",
    "\n",
    "fgs.fit(X_train, np.log1p(y_train))\n",
    "print(fgs.get_selected_features())\n",
    "selected_features=fgs.get_selected_features()\n",
    "type(selected_features)"
   ]
  },
  {
   "cell_type": "code",
   "execution_count": 150,
   "id": "legendary-circular",
   "metadata": {},
   "outputs": [
    {
     "data": {
      "text/plain": [
       "(2700, 16)"
      ]
     },
     "execution_count": 150,
     "metadata": {},
     "output_type": "execute_result"
    }
   ],
   "source": [
    "X_train_selected=X_train.iloc[:,selected_features]\n",
    "X_valid_selected=X_valid.iloc[:,selected_features]\n",
    "X_train_selected.shape"
   ]
  },
  {
   "cell_type": "code",
   "execution_count": 151,
   "id": "liquid-mining",
   "metadata": {},
   "outputs": [
    {
     "name": "stdout",
     "output_type": "stream",
     "text": [
      "X_train (2700, 258)\n",
      "y_train (2700,)\n",
      "X_valid (300, 258)\n",
      "y_valid (300,)\n"
     ]
    }
   ],
   "source": [
    "print('X_train', X_train.shape)\n",
    "print('y_train', y_train.shape)\n",
    "print('X_valid', X_valid.shape)\n",
    "print('y_valid', y_valid.shape)"
   ]
  },
  {
   "cell_type": "code",
   "execution_count": 152,
   "id": "intellectual-keeping",
   "metadata": {},
   "outputs": [],
   "source": [
    "sample_data = X_valid_selected[:]\n",
    "sample_labels = np.log1p(y_valid[:])\n",
    "\n",
    "\n",
    "num_models = 5\n",
    "forest_reg_models = []"
   ]
  },
  {
   "cell_type": "code",
   "execution_count": 153,
   "id": "curious-newcastle",
   "metadata": {},
   "outputs": [],
   "source": [
    "from sklearn.ensemble import RandomForestRegressor\n",
    "from sklearn.metrics import mean_squared_error\n",
    "\n",
    "for i in range(num_models):\n",
    "    forest_reg = RandomForestRegressor(n_estimators=100)\n",
    "    forest_reg.fit(X_train_selected, np.log1p(y_train))\n",
    "\n",
    "    preds = forest_reg.predict(sample_data)\n",
    "    forest_mse = mean_squared_error(sample_labels, preds)\n",
    "    forest_rmse = np.sqrt(forest_mse)\n",
    "    \n",
    "    forest_reg_models.append((forest_reg, forest_rmse))"
   ]
  },
  {
   "cell_type": "code",
   "execution_count": 154,
   "id": "classified-subscription",
   "metadata": {},
   "outputs": [
    {
     "data": {
      "text/plain": [
       "1.9619701868165895"
      ]
     },
     "execution_count": 154,
     "metadata": {},
     "output_type": "execute_result"
    }
   ],
   "source": [
    "res = pd.DataFrame({ 'Forest': [i[1] for i in forest_reg_models]})\n",
    "res\n",
    "best_forest_model, best_forest_model_rmse = sorted(forest_reg_models, key=lambda x: x[1])[0]\n",
    "best_forest_model_rmse"
   ]
  }
 ],
 "metadata": {
  "kernelspec": {
   "display_name": "Python 3",
   "language": "python",
   "name": "python3"
  },
  "language_info": {
   "codemirror_mode": {
    "name": "ipython",
    "version": 3
   },
   "file_extension": ".py",
   "mimetype": "text/x-python",
   "name": "python",
   "nbconvert_exporter": "python",
   "pygments_lexer": "ipython3",
   "version": "3.6.10"
  }
 },
 "nbformat": 4,
 "nbformat_minor": 5
}